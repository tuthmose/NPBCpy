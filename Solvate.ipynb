{
 "cells": [
  {
   "cell_type": "code",
   "execution_count": 1,
   "metadata": {},
   "outputs": [],
   "source": [
    "from mendeleev import element\n",
    "\n",
    "import numpy as np\n",
    "import scipy as sp\n",
    "import sys\n",
    "import mdtraj as md\n",
    "import os\n",
    "\n",
    "%load_ext autoreload"
   ]
  },
  {
   "cell_type": "code",
   "execution_count": 2,
   "metadata": {},
   "outputs": [],
   "source": [
    "sys.path.append(\"/home/gmancini/Dropbox/appunti/NPBCpy\")\n",
    "import npbc_io\n",
    "%autoreload 2"
   ]
  },
  {
   "cell_type": "code",
   "execution_count": 3,
   "metadata": {},
   "outputs": [
    {
     "data": {
      "text/plain": [
       "2625.4996394798254"
      ]
     },
     "execution_count": 3,
     "metadata": {},
     "output_type": "execute_result"
    }
   ],
   "source": [
    "har2kjmol = sp.constants.physical_constants[\"Avogadro constant\"][0]\\\n",
    "*sp.constants.physical_constants[\"Hartree energy\"][0]/1000.\n",
    "har2kjmol"
   ]
  },
  {
   "cell_type": "code",
   "execution_count": 4,
   "metadata": {},
   "outputs": [
    {
     "data": {
      "text/plain": [
       "{'C': 0.77, 'N': 0.65, 'O': 0.65, 'Cl': 1.05, 'H': 0.32}"
      ]
     },
     "execution_count": 4,
     "metadata": {},
     "output_type": "execute_result"
    }
   ],
   "source": [
    "covalent_radii = dict(zip((\"C\",\"N\",\"O\",\"Cl\"),\\\n",
    "                     [0.01*(lambda x: element(x).covalent_radius_bragg)(i) for i in (\"C\",\"N\",\"O\",\"Cl\")]))\n",
    "covalent_radii['H'] = 0.01*element('H').covalent_radius_pyykko\n",
    "covalent_radii"
   ]
  },
  {
   "cell_type": "code",
   "execution_count": 5,
   "metadata": {},
   "outputs": [
    {
     "data": {
      "text/plain": [
       "{'C': 2.85,\n",
       " 'H': 0.6,\n",
       " 'N': 3.5000000000000004,\n",
       " 'O': 4.1499999999999995,\n",
       " 'Cl': 5.699999999999999}"
      ]
     },
     "execution_count": 5,
     "metadata": {},
     "output_type": "execute_result"
    }
   ],
   "source": [
    "zeff = dict(zip((\"C\",\"H\",\"N\",\"O\",\"Cl\"),[(lambda x: element(x).zeff(o='s')-0.4)(i) for i in (\"C\",\"H\",\"N\",\"O\",\"Cl\")]))\n",
    "zeff"
   ]
  },
  {
   "cell_type": "code",
   "execution_count": 6,
   "metadata": {},
   "outputs": [
    {
     "data": {
      "text/plain": [
       "{'C': 2.55, 'H': 2.2, 'N': 3.04, 'O': 3.44, 'Cl': 3.16}"
      ]
     },
     "execution_count": 6,
     "metadata": {},
     "output_type": "execute_result"
    }
   ],
   "source": [
    "elec = dict(zip((\"C\",\"H\",\"N\",\"O\",\"Cl\"),\\\n",
    "                     [(lambda x: element(x).electronegativity(scale='pauling'))\\\n",
    "                     (i) for i in (\"C\",\"H\",\"N\",\"O\",\"Cl\")]))\n",
    "#elec =dict(zip((\"C\",\"H\",\"N\",\"O\"),(2.5,2.2,3.07,3.50)))\n",
    "elec"
   ]
  },
  {
   "cell_type": "code",
   "execution_count": 7,
   "metadata": {},
   "outputs": [],
   "source": [
    "tol = 0.6"
   ]
  },
  {
   "cell_type": "code",
   "execution_count": 8,
   "metadata": {},
   "outputs": [],
   "source": [
    "tempo = md.load(\"tempo.pdb\")\n",
    "tempo_top = tempo.topology\n",
    "tempo_atoms = [a.element.symbol for a in tempo_top.atoms]"
   ]
  },
  {
   "cell_type": "code",
   "execution_count": 9,
   "metadata": {},
   "outputs": [],
   "source": [
    "solvent = md.load(\"centered_tip3p_fb_3351.pdb\")\n",
    "solvent_top = solvent.topology\n",
    "solvent_atoms = [a.element.symbol for a in solvent_top.atoms]"
   ]
  },
  {
   "cell_type": "code",
   "execution_count": 10,
   "metadata": {},
   "outputs": [
    {
     "data": {
      "text/plain": [
       "array([3, 4, 5])"
      ]
     },
     "execution_count": 10,
     "metadata": {},
     "output_type": "execute_result"
    }
   ],
   "source": [
    "solvent_top.select(\"resid 1\")"
   ]
  },
  {
   "cell_type": "code",
   "execution_count": 11,
   "metadata": {},
   "outputs": [
    {
     "data": {
      "text/plain": [
       "array([[-0.249 ,  0.51  , -1.431 ],\n",
       "       [-0.295 ,  0.432 , -1.475 ],\n",
       "       [-0.193 ,  0.475 , -1.354 ],\n",
       "       ...,\n",
       "       [ 1.2929,  0.9229,  0.7459],\n",
       "       [ 1.2699,  0.9769,  0.6629],\n",
       "       [ 1.2129,  0.8649,  0.7689]], dtype=float32)"
      ]
     },
     "execution_count": 11,
     "metadata": {},
     "output_type": "execute_result"
    }
   ],
   "source": [
    "solvent.xyz[0]"
   ]
  },
  {
   "cell_type": "code",
   "execution_count": 12,
   "metadata": {},
   "outputs": [
    {
     "data": {
      "text/plain": [
       "1106"
      ]
     },
     "execution_count": 12,
     "metadata": {},
     "output_type": "execute_result"
    }
   ],
   "source": [
    "hole = npbc_io.create_hole(tempo, solvent, 0., 0., covalent_radii, elec, tol, \"hole.xyz\")\n",
    "len(hole)"
   ]
  },
  {
   "cell_type": "code",
   "execution_count": 13,
   "metadata": {},
   "outputs": [],
   "source": [
    "tempo.save(\"1.xyz\")"
   ]
  },
  {
   "cell_type": "code",
   "execution_count": 14,
   "metadata": {},
   "outputs": [],
   "source": [
    "!cat \"1.xyz\" \"hole.xyz\" > test.xyz"
   ]
  },
  {
   "cell_type": "code",
   "execution_count": null,
   "metadata": {},
   "outputs": [],
   "source": []
  }
 ],
 "metadata": {
  "kernelspec": {
   "display_name": "Python 3 (ipykernel)",
   "language": "python",
   "name": "python3"
  },
  "language_info": {
   "codemirror_mode": {
    "name": "ipython",
    "version": 3
   },
   "file_extension": ".py",
   "mimetype": "text/x-python",
   "name": "python",
   "nbconvert_exporter": "python",
   "pygments_lexer": "ipython3",
   "version": "3.8.10"
  }
 },
 "nbformat": 4,
 "nbformat_minor": 4
}
