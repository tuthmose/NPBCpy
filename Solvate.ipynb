{
 "cells": [
  {
   "cell_type": "code",
   "execution_count": 1,
   "metadata": {},
   "outputs": [],
   "source": [
    "import numpy as np\n",
    "import scipy as sp\n",
    "import sys\n",
    "from mendeleev import element\n",
    "import mdtraj as md"
   ]
  },
  {
   "cell_type": "code",
   "execution_count": 2,
   "metadata": {},
   "outputs": [],
   "source": [
    "%load_ext autoreload\n",
    "sys.path.append(\"/home/gmancini/Dropbox/appunti/old_search_algos_28_08_2020/molecule_utils\")\n",
    "import zmatrix, quaternion_utils\n",
    "%autoreload 2"
   ]
  },
  {
   "cell_type": "code",
   "execution_count": 3,
   "metadata": {},
   "outputs": [
    {
     "data": {
      "text/plain": [
       "2625.4996394798254"
      ]
     },
     "execution_count": 3,
     "metadata": {},
     "output_type": "execute_result"
    }
   ],
   "source": [
    "har2kjmol = sp.constants.physical_constants[\"Avogadro constant\"][0]\\\n",
    "*sp.constants.physical_constants[\"Hartree energy\"][0]/1000.\n",
    "har2kjmol"
   ]
  },
  {
   "cell_type": "code",
   "execution_count": 4,
   "metadata": {},
   "outputs": [
    {
     "data": {
      "text/plain": [
       "{'C': 0.77, 'N': 0.65, 'O': 0.65, 'H': 0.32}"
      ]
     },
     "execution_count": 4,
     "metadata": {},
     "output_type": "execute_result"
    }
   ],
   "source": [
    "covalent_radii = dict(zip((\"C\",\"N\",\"O\"),\\\n",
    "                     [0.01*(lambda x: element(x).covalent_radius_bragg)(i) for i in (\"C\",\"N\",\"O\")]))\n",
    "covalent_radii['H'] = 0.01*element('H').covalent_radius_pyykko\n",
    "covalent_radii"
   ]
  },
  {
   "cell_type": "code",
   "execution_count": 5,
   "metadata": {},
   "outputs": [
    {
     "data": {
      "text/plain": [
       "{'C': 2.85, 'H': 0.6, 'N': 3.5000000000000004, 'O': 4.1499999999999995}"
      ]
     },
     "execution_count": 5,
     "metadata": {},
     "output_type": "execute_result"
    }
   ],
   "source": [
    "zeff = dict(zip((\"C\",\"H\",\"N\",\"O\"),[(lambda x: element(x).zeff(o='s')-0.4)(i) for i in (\"C\",\"H\",\"N\",\"O\")]))\n",
    "zeff"
   ]
  },
  {
   "cell_type": "code",
   "execution_count": 6,
   "metadata": {},
   "outputs": [
    {
     "data": {
      "text/plain": [
       "{'C': 2.5, 'H': 2.2, 'N': 3.07, 'O': 3.5}"
      ]
     },
     "execution_count": 6,
     "metadata": {},
     "output_type": "execute_result"
    }
   ],
   "source": [
    "#elec = dict(zip((\"C\",\"H\",\"N\",\"O\"),\\\n",
    "#                     [(lambda x: element(x).electronegativity(scale='allred-rochow'))\\\n",
    "#                     (i) for i in (\"C\",\"H\",\"N\",\"O\")]))\n",
    "# allrd-rochov scale is not in the expected values or units\n",
    "# quick & dirty estimate from eq. and adjust zeff as above\n",
    "elec =dict(zip((\"C\",\"H\",\"N\",\"O\"),(2.5,2.2,3.07,3.50)))\n",
    "elec"
   ]
  },
  {
   "cell_type": "code",
   "execution_count": 7,
   "metadata": {},
   "outputs": [],
   "source": [
    "tol = 0.4"
   ]
  },
  {
   "cell_type": "code",
   "execution_count": 8,
   "metadata": {},
   "outputs": [
    {
     "data": {
      "text/plain": [
       "array([[[ 0.0694,  0.0206,  0.    ],\n",
       "        [ 0.0022,  0.0025,  0.1318],\n",
       "        [-0.1434,  0.05  ,  0.1238],\n",
       "        [-0.2166,  0.0006,  0.    ],\n",
       "        [-0.1434,  0.05  , -0.1238],\n",
       "        [ 0.0022,  0.0025, -0.1318],\n",
       "        [ 0.0108, -0.1451,  0.1733],\n",
       "        [ 0.078 ,  0.0877,  0.2336],\n",
       "        [ 0.078 ,  0.0877, -0.2336],\n",
       "        [ 0.0108, -0.1451, -0.1733],\n",
       "        [ 0.1961,  0.0067,  0.    ],\n",
       "        [-0.2238, -0.1089,  0.    ],\n",
       "        [-0.3196,  0.038 ,  0.    ],\n",
       "        [-0.1944,  0.0182,  0.2155],\n",
       "        [-0.1445,  0.1599,  0.1237],\n",
       "        [-0.1944,  0.0182, -0.2155],\n",
       "        [-0.1445,  0.1599, -0.1237],\n",
       "        [ 0.0798,  0.1926, -0.2025],\n",
       "        [ 0.1811,  0.0533, -0.2441],\n",
       "        [ 0.028 ,  0.081 , -0.3308],\n",
       "        [ 0.1145, -0.1793, -0.1662],\n",
       "        [-0.0514, -0.2098, -0.1109],\n",
       "        [-0.0224, -0.1563, -0.2771],\n",
       "        [-0.0514, -0.2098,  0.1109],\n",
       "        [ 0.1145, -0.1793,  0.1662],\n",
       "        [-0.0224, -0.1563,  0.2771],\n",
       "        [ 0.1811,  0.0533,  0.2441],\n",
       "        [ 0.0798,  0.1926,  0.2025],\n",
       "        [ 0.028 ,  0.081 ,  0.3308],\n",
       "        [ 0.218 ,  0.0043,  0.0272],\n",
       "        [ 0.218 ,  0.0043, -0.0272]]], dtype=float32)"
      ]
     },
     "execution_count": 8,
     "metadata": {},
     "output_type": "execute_result"
    }
   ],
   "source": [
    "tempo = md.load(\"tempo.pdb\")\n",
    "tempo_top = tempo.topology\n",
    "tempo_atoms = [a.element.symbol for a in tempo_top.atoms]\n",
    "tempo.xyz"
   ]
  },
  {
   "cell_type": "code",
   "execution_count": 9,
   "metadata": {},
   "outputs": [
    {
     "data": {
      "text/plain": [
       "(31, 31)"
      ]
     },
     "execution_count": 9,
     "metadata": {},
     "output_type": "execute_result"
    }
   ],
   "source": [
    "tempo_zm = zmatrix.zmat(\"tempo.zmat\",((2,7),(2,8),(6,9),(6,10)),fmt=\"zmat\")\n",
    "tempo_zm.admat.shape"
   ]
  },
  {
   "cell_type": "code",
   "execution_count": 10,
   "metadata": {},
   "outputs": [],
   "source": [
    "ch3oh = md.load(\"ch3oh.pdb\")\n",
    "ch3oh_top = ch3oh.topology\n",
    "ch3oh_atoms = [a.element.symbol for a in ch3oh_top.atoms]"
   ]
  },
  {
   "cell_type": "code",
   "execution_count": 11,
   "metadata": {},
   "outputs": [
    {
     "data": {
      "text/plain": [
       "array([ 6,  7,  8,  9, 10, 11])"
      ]
     },
     "execution_count": 11,
     "metadata": {},
     "output_type": "execute_result"
    }
   ],
   "source": [
    "ch3oh_top.select(\"resid 1\")"
   ]
  },
  {
   "cell_type": "code",
   "execution_count": 12,
   "metadata": {},
   "outputs": [],
   "source": [
    "def create_hole(solute,solute_top,solvent,solvent_top,radii,elec,tol):\n",
    "    \"\"\"\n",
    "    create hole using covalent radii and same eq as proxima with\n",
    "    role of tolerance reversed\n",
    "    \"\"\"\n",
    "    solute_atoms = [a.element.symbol for a in solute_top.atoms]\n",
    "    solvent_atoms = [a.element.symbol for a in solvent_top.atoms]\n",
    "    solvent_natoms = len(solvent_top.select(\"resid 1\"))\n",
    "    residues = list(range(solvent_top.n_residues))\n",
    "    N = len(solvent_top.select(\"resid 1\"))\n",
    "    remove = list()\n",
    "    for res in range(len(residues)):\n",
    "        ratoms = solvent_top.select(\"resid \" + str(res))\n",
    "        for jatom in range(solute.n_atoms):\n",
    "            jelem = solute_atoms[jatom]\n",
    "            if jelem == \"VS\": continue\n",
    "            D = 10.*np.linalg.norm(solvent.xyz[0][ratoms]-solute.xyz[0][jatom],axis=1)\n",
    "            C = np.array([(radii[i] + radii[jelem]-0.07*(elec[i]-elec[jelem])**2 + tol)\\\n",
    "                           for i in solvent_atoms[:N]])\n",
    "            if np.min(D) < np.max(C):\n",
    "                remove.append(res)\n",
    "    okres = list(set(residues).difference(remove))\n",
    "    rlist = \"resid \" + ' '.join(list(map(str,okres)))\n",
    "    solvent.restrict_atoms(solvent_top.select(rlist))\n",
    "    return okres"
   ]
  },
  {
   "cell_type": "code",
   "execution_count": 13,
   "metadata": {},
   "outputs": [
    {
     "data": {
      "text/plain": [
       "494"
      ]
     },
     "execution_count": 13,
     "metadata": {},
     "output_type": "execute_result"
    }
   ],
   "source": [
    "hole = create_hole(tempo,tempo_top,ch3oh,ch3oh_top,covalent_radii,elec,tol)\n",
    "len(hole)"
   ]
  },
  {
   "cell_type": "code",
   "execution_count": 14,
   "metadata": {},
   "outputs": [],
   "source": [
    "ch3oh.save(\"test.xyz\")"
   ]
  },
  {
   "cell_type": "code",
   "execution_count": 15,
   "metadata": {},
   "outputs": [],
   "source": [
    "tempo.save(\"1.xyz\")"
   ]
  }
 ],
 "metadata": {
  "kernelspec": {
   "display_name": "Python 3",
   "language": "python",
   "name": "python3"
  },
  "language_info": {
   "codemirror_mode": {
    "name": "ipython",
    "version": 3
   },
   "file_extension": ".py",
   "mimetype": "text/x-python",
   "name": "python",
   "nbconvert_exporter": "python",
   "pygments_lexer": "ipython3",
   "version": "3.8.5"
  }
 },
 "nbformat": 4,
 "nbformat_minor": 4
}
