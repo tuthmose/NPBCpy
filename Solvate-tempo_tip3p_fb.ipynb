{
 "cells": [
  {
   "cell_type": "code",
   "execution_count": 1,
   "metadata": {},
   "outputs": [],
   "source": [
    "import numpy as np\n",
    "import scipy as sp\n",
    "import sys\n",
    "from mendeleev import element\n",
    "import mdtraj as md\n",
    "import os"
   ]
  },
  {
   "cell_type": "code",
   "execution_count": 2,
   "metadata": {},
   "outputs": [],
   "source": [
    "%load_ext autoreload\n",
    "sys.path.append(\"/home/gmancini/Dropbox/appunti/old_search_algos_28_08_2020/molecule_utils\")\n",
    "import zmatrix, quaternion_utils\n",
    "%autoreload 2"
   ]
  },
  {
   "cell_type": "code",
   "execution_count": 3,
   "metadata": {},
   "outputs": [
    {
     "data": {
      "text/plain": [
       "2625.4996394798254"
      ]
     },
     "execution_count": 3,
     "metadata": {},
     "output_type": "execute_result"
    }
   ],
   "source": [
    "har2kjmol = sp.constants.physical_constants[\"Avogadro constant\"][0]\\\n",
    "*sp.constants.physical_constants[\"Hartree energy\"][0]/1000.\n",
    "har2kjmol"
   ]
  },
  {
   "cell_type": "code",
   "execution_count": 4,
   "metadata": {},
   "outputs": [],
   "source": [
    "os.chdir(\"/home/gmancini/data/devel/gaussian/j14/working\")"
   ]
  },
  {
   "cell_type": "code",
   "execution_count": 5,
   "metadata": {},
   "outputs": [
    {
     "data": {
      "text/plain": [
       "{'C': 0.77, 'N': 0.65, 'O': 0.65, 'H': 0.32}"
      ]
     },
     "execution_count": 5,
     "metadata": {},
     "output_type": "execute_result"
    }
   ],
   "source": [
    "covalent_radii = dict(zip((\"C\",\"N\",\"O\"),\\\n",
    "                     [0.01*(lambda x: element(x).covalent_radius_bragg)(i) for i in (\"C\",\"N\",\"O\")]))\n",
    "covalent_radii['H'] = 0.01*element('H').covalent_radius_pyykko\n",
    "covalent_radii"
   ]
  },
  {
   "cell_type": "code",
   "execution_count": 6,
   "metadata": {},
   "outputs": [
    {
     "data": {
      "text/plain": [
       "{'C': 2.85, 'H': 0.6, 'N': 3.5000000000000004, 'O': 4.1499999999999995}"
      ]
     },
     "execution_count": 6,
     "metadata": {},
     "output_type": "execute_result"
    }
   ],
   "source": [
    "zeff = dict(zip((\"C\",\"H\",\"N\",\"O\"),[(lambda x: element(x).zeff(o='s')-0.4)(i) for i in (\"C\",\"H\",\"N\",\"O\")]))\n",
    "zeff"
   ]
  },
  {
   "cell_type": "code",
   "execution_count": 7,
   "metadata": {},
   "outputs": [
    {
     "data": {
      "text/plain": [
       "{'C': 2.5, 'H': 2.2, 'N': 3.07, 'O': 3.5}"
      ]
     },
     "execution_count": 7,
     "metadata": {},
     "output_type": "execute_result"
    }
   ],
   "source": [
    "#elec = dict(zip((\"C\",\"H\",\"N\",\"O\"),\\\n",
    "#                     [(lambda x: element(x).electronegativity(scale='allred-rochow'))\\\n",
    "#                     (i) for i in (\"C\",\"H\",\"N\",\"O\")]))\n",
    "# allrd-rochov scale is not in the expected values or units\n",
    "# quick & dirty estimate from eq. and adjust zeff as above\n",
    "elec =dict(zip((\"C\",\"H\",\"N\",\"O\"),(2.5,2.2,3.07,3.50)))\n",
    "elec"
   ]
  },
  {
   "cell_type": "code",
   "execution_count": 8,
   "metadata": {},
   "outputs": [],
   "source": [
    "tol = 0.6"
   ]
  },
  {
   "cell_type": "code",
   "execution_count": 9,
   "metadata": {},
   "outputs": [],
   "source": [
    "tempo = md.load(\"tempo.pdb\")\n",
    "tempo_top = tempo.topology\n",
    "tempo_atoms = [a.element.symbol for a in tempo_top.atoms]"
   ]
  },
  {
   "cell_type": "code",
   "execution_count": 10,
   "metadata": {},
   "outputs": [],
   "source": [
    "water = md.load(\"tip3p_fb_3351.pdb\")\n",
    "water_top = water.topology\n",
    "water_atoms = [a.element.symbol for a in water_top.atoms]"
   ]
  },
  {
   "cell_type": "code",
   "execution_count": 11,
   "metadata": {},
   "outputs": [
    {
     "data": {
      "text/plain": [
       "array([3, 4, 5])"
      ]
     },
     "execution_count": 11,
     "metadata": {},
     "output_type": "execute_result"
    }
   ],
   "source": [
    "water_top.select(\"resid 1\")"
   ]
  },
  {
   "cell_type": "code",
   "execution_count": 12,
   "metadata": {},
   "outputs": [],
   "source": [
    "def create_hole(solute, solvent, rsphere, radii, elec, tol, outname):\n",
    "    \"\"\"\n",
    "    create hole using covalent radii and same eq as proxima with\n",
    "    role of tolerance reversed\n",
    "    \"\"\"\n",
    "    solute_top = solute.topology\n",
    "    solvent_top = solvent.topology\n",
    "    solute_atoms = [a.element.symbol for a in solute_top.atoms]\n",
    "    solvent_atoms = np.asarray([a.element.symbol for a in solvent_top.atoms])\n",
    "    solvent_natoms = len(solvent_top.select(\"resid 1\"))\n",
    "    residues = list(range(solvent_top.n_residues))\n",
    "    remove = list()\n",
    "    rsphere = rsphere/10.\n",
    "    solvent.xyz[0] = solvent.xyz[0] - rsphere\n",
    "    for res in range(len(residues)):\n",
    "        ratoms = solvent_top.select(\"resid \" + str(res))\n",
    "        if len(ratoms) == 0: \n",
    "            continue\n",
    "        for jatom in range(solute.n_atoms):\n",
    "            jelem = solute_atoms[jatom]\n",
    "            if jelem == \"VS\": continue\n",
    "            D = 10.*np.linalg.norm(solvent.xyz[0][ratoms] - solute.xyz[0][jatom], axis=1)\n",
    "            C = np.array([(radii[i] + radii[jelem]-0.07*(elec[i]-elec[jelem])**2 + tol)\\\n",
    "                           for i in solvent_atoms[ratoms]])\n",
    "            #print(solvent.xyz[0][ratoms],D,C,solute.xyz[0][jatom])\n",
    "            if np.min(D) <= np.max(C):\n",
    "                remove.append(res)\n",
    "            #break\n",
    "        #break\n",
    "    print(remove)\n",
    "    okres = list(set(residues).difference(remove))\n",
    "    rlist = \"resid \" + ' '.join(list(map(str,okres)))\n",
    "    solvent.restrict_atoms(solvent_top.select(rlist))\n",
    "    solvent.save(outname)\n",
    "    return okres"
   ]
  },
  {
   "cell_type": "code",
   "execution_count": 13,
   "metadata": {},
   "outputs": [
    {
     "name": "stdout",
     "output_type": "stream",
     "text": [
      "[5, 32, 80, 80, 80, 80, 80, 103, 103, 117, 117, 117, 127, 127, 127, 127, 127, 135, 155, 155, 155, 155, 179, 179, 225, 225, 225, 225, 225, 231, 231]\n"
     ]
    },
    {
     "data": {
      "text/plain": [
       "1106"
      ]
     },
     "execution_count": 13,
     "metadata": {},
     "output_type": "execute_result"
    }
   ],
   "source": [
    "hole = create_hole(tempo, water, 20., covalent_radii, elec, tol, \"tip3pfb_hole.xyz\")\n",
    "len(hole)"
   ]
  },
  {
   "cell_type": "code",
   "execution_count": 14,
   "metadata": {},
   "outputs": [],
   "source": [
    "tempo.save(\"1.xyz\")"
   ]
  },
  {
   "cell_type": "code",
   "execution_count": 15,
   "metadata": {},
   "outputs": [],
   "source": [
    "!cat \"1.xyz\" \"tip3pfb_hole.xyz\" > test.xyz"
   ]
  },
  {
   "cell_type": "code",
   "execution_count": null,
   "metadata": {},
   "outputs": [],
   "source": []
  }
 ],
 "metadata": {
  "kernelspec": {
   "display_name": "Python 3",
   "language": "python",
   "name": "python3"
  },
  "language_info": {
   "codemirror_mode": {
    "name": "ipython",
    "version": 3
   },
   "file_extension": ".py",
   "mimetype": "text/x-python",
   "name": "python",
   "nbconvert_exporter": "python",
   "pygments_lexer": "ipython3",
   "version": "3.6.9"
  }
 },
 "nbformat": 4,
 "nbformat_minor": 4
}
