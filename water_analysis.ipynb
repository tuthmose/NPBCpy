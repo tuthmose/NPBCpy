{
 "cells": [
  {
   "cell_type": "markdown",
   "metadata": {},
   "source": [
    "# $H_2O$ box size effect"
   ]
  },
  {
   "cell_type": "markdown",
   "metadata": {},
   "source": [
    "load libraries"
   ]
  },
  {
   "cell_type": "code",
   "execution_count": 1,
   "metadata": {},
   "outputs": [],
   "source": [
    "import mdtraj as md\n",
    "import numpy as np\n",
    "import os\n",
    "import random\n",
    "import scipy as sp\n",
    "import sys\n",
    "import matplotlib.pyplot as plt\n",
    "import seaborn as sb\n",
    "%matplotlib inline\n",
    "%load_ext autoreload"
   ]
  },
  {
   "cell_type": "code",
   "execution_count": 2,
   "metadata": {},
   "outputs": [],
   "source": [
    "sys.path.append(\"/home/gmancini/Dropbox/appunti/NPBCpy\")\n",
    "import npbc_io, npbc_analysis, npbc_cy\n",
    "%autoreload 2"
   ]
  },
  {
   "cell_type": "markdown",
   "metadata": {},
   "source": [
    "## Load data"
   ]
  },
  {
   "cell_type": "code",
   "execution_count": 3,
   "metadata": {},
   "outputs": [],
   "source": [
    "#box_sizes = np.array((8.5, 10, 12, 15, 18, 20))\n",
    "#traj_names = [\"radius085\", \"radius10\", \"radius12\",\"radius15\", \"radius18\",\"radius20\"]\n",
    "box_sizes = np.array((15, 17, 20))\n",
    "traj_names = [\"radius15\", \"radius18\", \"radius20\"]\n",
    "pdbs = [n+\".pdb\" for n in traj_names]\n",
    "indexes = [n+\".ndx\" for n in traj_names]"
   ]
  },
  {
   "cell_type": "markdown",
   "metadata": {},
   "source": [
    "#### vacuum"
   ]
  },
  {
   "cell_type": "code",
   "execution_count": 4,
   "metadata": {},
   "outputs": [],
   "source": [
    "os.chdir(\"/home/gmancini/data/devel/gaussian/test_nb/vacuum\")"
   ]
  },
  {
   "cell_type": "code",
   "execution_count": 5,
   "metadata": {},
   "outputs": [],
   "source": [
    "Vtrajs = [md.load(n+\".xtc\", top=n+\".pdb\") for n in traj_names]\n",
    "tops = [trj.topology for trj in Vtrajs]\n",
    "weights = [[a.element.mass for a in top.atoms] for top in tops]\n",
    "weights = np.array(weights, dtype=object)"
   ]
  },
  {
   "cell_type": "markdown",
   "metadata": {},
   "source": [
    "#### ddCosmo"
   ]
  },
  {
   "cell_type": "code",
   "execution_count": 6,
   "metadata": {},
   "outputs": [],
   "source": [
    "os.chdir(\"/home/gmancini/data/devel/gaussian/test_nb/ddCosmo\")"
   ]
  },
  {
   "cell_type": "code",
   "execution_count": 7,
   "metadata": {},
   "outputs": [],
   "source": [
    "Dtrajs = [md.load(n+\".xtc\", top=n+\".pdb\") for n in traj_names]"
   ]
  },
  {
   "cell_type": "markdown",
   "metadata": {},
   "source": [
    "### print number of frames"
   ]
  },
  {
   "cell_type": "code",
   "execution_count": 8,
   "metadata": {},
   "outputs": [
    {
     "name": "stdout",
     "output_type": "stream",
     "text": [
      "483\n",
      "310\n",
      "8451\n"
     ]
    }
   ],
   "source": [
    "for trj in Vtrajs:\n",
    "    print(trj.n_frames)"
   ]
  },
  {
   "cell_type": "code",
   "execution_count": 9,
   "metadata": {},
   "outputs": [
    {
     "name": "stdout",
     "output_type": "stream",
     "text": [
      "501\n",
      "316\n",
      "7896\n"
     ]
    }
   ],
   "source": [
    "for trj in Dtrajs:\n",
    "    print(trj.n_frames)"
   ]
  },
  {
   "cell_type": "markdown",
   "metadata": {},
   "source": [
    "# Properties"
   ]
  },
  {
   "cell_type": "markdown",
   "metadata": {},
   "source": [
    "## radial distribution functions (O-O)"
   ]
  },
  {
   "cell_type": "markdown",
   "metadata": {},
   "source": [
    "Index files are the `vacuum` folder"
   ]
  },
  {
   "cell_type": "code",
   "execution_count": 10,
   "metadata": {},
   "outputs": [],
   "source": [
    "os.chdir(\"/home/gmancini/data/devel/gaussian/test_nb/vacuum\")"
   ]
  },
  {
   "cell_type": "code",
   "execution_count": 11,
   "metadata": {},
   "outputs": [],
   "source": [
    "VRDF = list()\n",
    "DRDF = list()"
   ]
  },
  {
   "cell_type": "markdown",
   "metadata": {},
   "source": [
    "### radius 15"
   ]
  },
  {
   "cell_type": "markdown",
   "metadata": {},
   "source": [
    "RDF calculation parameters"
   ]
  },
  {
   "cell_type": "code",
   "execution_count": 12,
   "metadata": {},
   "outputs": [],
   "source": [
    "shift = np.zeros(3)\n",
    "nbins = 200\n",
    "calc_cn = True\n",
    "smooth = False\n",
    "norm = True\n",
    "shift = shift/10"
   ]
  },
  {
   "cell_type": "code",
   "execution_count": 13,
   "metadata": {},
   "outputs": [],
   "source": [
    "rmax = np.asarray((0., 7))\n",
    "dmax = 8.\n",
    "radius = 15.5\n",
    "radius = radius/10.\n",
    "dmax = dmax/10\n",
    "rmax = rmax/10"
   ]
  },
  {
   "cell_type": "markdown",
   "metadata": {},
   "source": [
    "**vacuum**"
   ]
  },
  {
   "cell_type": "code",
   "execution_count": 14,
   "metadata": {},
   "outputs": [],
   "source": [
    "traj = Vtrajs[0]\n",
    "ndx = indexes[0] "
   ]
  },
  {
   "cell_type": "code",
   "execution_count": 15,
   "metadata": {},
   "outputs": [
    {
     "name": "stdout",
     "output_type": "stream",
     "text": [
      "--- Parsing index file\n",
      "--- Found 3 atom groups\n",
      "--- Selected groups 1:O\n",
      "--- Selected groups 1:O\n"
     ]
    }
   ],
   "source": [
    "select = (1,1)\n",
    "group_A, group_B = npbc_io.parse_index(ndx, select)"
   ]
  },
  {
   "cell_type": "code",
   "execution_count": 16,
   "metadata": {},
   "outputs": [
    {
     "name": "stdout",
     "output_type": "stream",
     "text": [
      "--- Number density in system is  33.208255052170834\n",
      "--- Read  485  frames\n",
      "--- Average number of reference molecules  49.45360824742268\n",
      "--- Average number density in dmax  34.244540333410114\n"
     ]
    }
   ],
   "source": [
    "xbins, rdf, cn = npbc_analysis.calc_rdf(-1, traj.n_frames, nbins, calc_cn, smooth, norm, radius, \\\n",
    "                                  rmax, dmax, shift, traj, group_A, group_B)\n",
    "rdf_oo = np.vstack((xbins, rdf, cn)).T\n",
    "VRDF.append(rdf_oo)"
   ]
  },
  {
   "cell_type": "markdown",
   "metadata": {},
   "source": [
    "**ddCosmo**"
   ]
  },
  {
   "cell_type": "code",
   "execution_count": 17,
   "metadata": {},
   "outputs": [],
   "source": [
    "traj = Dtrajs[0]"
   ]
  },
  {
   "cell_type": "code",
   "execution_count": 18,
   "metadata": {
    "scrolled": true
   },
   "outputs": [
    {
     "name": "stdout",
     "output_type": "stream",
     "text": [
      "--- Number density in system is  33.208255052170834\n",
      "--- Read  503  frames\n",
      "--- Average number of reference molecules  50.17892644135189\n",
      "--- Average number density in dmax  34.05768857843477\n"
     ]
    }
   ],
   "source": [
    "xbins, rdf, cn = npbc_analysis.calc_rdf(-1, traj.n_frames, nbins, calc_cn, smooth, norm, radius, \\\n",
    "                                  rmax, dmax, shift, traj, group_A, group_B)\n",
    "rdf_oo = np.vstack((xbins, rdf, cn)).T\n",
    "DRDF.append(rdf_oo)"
   ]
  },
  {
   "cell_type": "markdown",
   "metadata": {},
   "source": [
    "### radius 18"
   ]
  },
  {
   "cell_type": "code",
   "execution_count": 19,
   "metadata": {},
   "outputs": [],
   "source": [
    "rmax = np.asarray((0., 9.))\n",
    "dmax = 8.\n",
    "radius = 18\n",
    "radius = radius/10.\n",
    "dmax = dmax/10\n",
    "rmax = rmax/10"
   ]
  },
  {
   "cell_type": "markdown",
   "metadata": {},
   "source": [
    "**vacuum**"
   ]
  },
  {
   "cell_type": "code",
   "execution_count": 20,
   "metadata": {},
   "outputs": [],
   "source": [
    "traj = Vtrajs[1]\n",
    "ndx = indexes[1] "
   ]
  },
  {
   "cell_type": "code",
   "execution_count": 21,
   "metadata": {},
   "outputs": [
    {
     "name": "stdout",
     "output_type": "stream",
     "text": [
      "--- Parsing index file\n",
      "--- Found 3 atom groups\n",
      "--- Selected groups 1:O\n",
      "--- Selected groups 1:O\n"
     ]
    }
   ],
   "source": [
    "group_A, group_B = npbc_io.parse_index(ndx, select)"
   ]
  },
  {
   "cell_type": "code",
   "execution_count": 22,
   "metadata": {},
   "outputs": [
    {
     "name": "stdout",
     "output_type": "stream",
     "text": [
      "--- Number density in system is  32.9935401574248\n",
      "--- Read  312  frames\n",
      "--- Average number of reference molecules  105.17307692307692\n",
      "--- Average number density in dmax  34.12351986218832\n"
     ]
    }
   ],
   "source": [
    "xbins, rdf, cn = npbc_analysis.calc_rdf(-1, traj.n_frames, nbins, calc_cn, smooth, norm, radius, \\\n",
    "                                  rmax, dmax, shift, traj, group_A, group_B)\n",
    "rdf_oo = np.vstack((xbins, rdf, cn)).T\n",
    "VRDF.append(rdf_oo)"
   ]
  },
  {
   "cell_type": "markdown",
   "metadata": {},
   "source": [
    "**ddCosmo**"
   ]
  },
  {
   "cell_type": "code",
   "execution_count": 23,
   "metadata": {},
   "outputs": [],
   "source": [
    "traj = Dtrajs[1]"
   ]
  },
  {
   "cell_type": "code",
   "execution_count": 24,
   "metadata": {
    "scrolled": false
   },
   "outputs": [
    {
     "name": "stdout",
     "output_type": "stream",
     "text": [
      "--- Number density in system is  32.9935401574248\n",
      "--- Read  318  frames\n",
      "--- Average number of reference molecules  105.11320754716981\n",
      "--- Average number density in dmax  34.12729897766878\n"
     ]
    },
    {
     "data": {
      "text/plain": [
       "(200, 3)"
      ]
     },
     "execution_count": 24,
     "metadata": {},
     "output_type": "execute_result"
    }
   ],
   "source": [
    "xbins, rdf, cn = npbc_analysis.calc_rdf(-1, traj.n_frames, nbins, calc_cn, smooth, norm, radius, \\\n",
    "                                  rmax, dmax, shift, traj, group_A, group_B)\n",
    "rdf_oo = np.vstack((xbins, rdf, cn)).T\n",
    "DRDF.append(rdf_oo)\n",
    "rdf_oo.shape"
   ]
  },
  {
   "cell_type": "markdown",
   "metadata": {},
   "source": [
    "### radius 20"
   ]
  },
  {
   "cell_type": "code",
   "execution_count": 25,
   "metadata": {},
   "outputs": [],
   "source": [
    "rmax = np.asarray((0., 12.))\n",
    "dmax = 8.\n",
    "radius = 20.\n",
    "radius = radius/10.\n",
    "dmax = dmax/10\n",
    "rmax = rmax/10"
   ]
  },
  {
   "cell_type": "markdown",
   "metadata": {},
   "source": [
    "**vacuum**"
   ]
  },
  {
   "cell_type": "code",
   "execution_count": 26,
   "metadata": {},
   "outputs": [],
   "source": [
    "traj = Vtrajs[2]\n",
    "ndx = indexes[2] "
   ]
  },
  {
   "cell_type": "code",
   "execution_count": 27,
   "metadata": {},
   "outputs": [
    {
     "name": "stdout",
     "output_type": "stream",
     "text": [
      "--- Parsing index file\n",
      "--- Found 6 atom groups\n",
      "--- Selected groups 2:OW\n",
      "--- Selected groups 2:OW\n"
     ]
    }
   ],
   "source": [
    "select = (2,2)\n",
    "group_A, group_B = npbc_io.parse_index(ndx, select)"
   ]
  },
  {
   "cell_type": "code",
   "execution_count": null,
   "metadata": {},
   "outputs": [
    {
     "name": "stdout",
     "output_type": "stream",
     "text": [
      "--- Number density in system is  33.3031718419791\n"
     ]
    }
   ],
   "source": [
    "xbins, rdf, cn = npbc_analysis.calc_rdf(-1, traj.n_frames, nbins, calc_cn, smooth, norm, radius, \\\n",
    "                                  rmax, dmax, shift, traj, group_A, group_B)\n",
    "rdf_oo = np.vstack((xbins, rdf, cn)).T\n",
    "VRDF.append(rdf_oo)\n",
    "rdf_oo.shape"
   ]
  },
  {
   "cell_type": "markdown",
   "metadata": {},
   "source": [
    "**ddCosmo**"
   ]
  },
  {
   "cell_type": "code",
   "execution_count": null,
   "metadata": {},
   "outputs": [],
   "source": [
    "traj = Dtrajs[2]"
   ]
  },
  {
   "cell_type": "code",
   "execution_count": null,
   "metadata": {
    "scrolled": false
   },
   "outputs": [],
   "source": [
    "xbins, rdf, cn = npbc_analysis.calc_rdf(-1, traj.n_frames, nbins, calc_cn, smooth, norm, radius, \\\n",
    "                                  rmax, dmax, shift, traj, group_A, group_B)\n",
    "rdf_oo = np.vstack((xbins, rdf, cn)).T\n",
    "DRDF.append(rdf_oo)\n",
    "rdf_oo.shape"
   ]
  },
  {
   "cell_type": "markdown",
   "metadata": {},
   "source": [
    "**PBC data**"
   ]
  },
  {
   "cell_type": "code",
   "execution_count": null,
   "metadata": {},
   "outputs": [],
   "source": [
    "pbc_rdf = np.loadtxt(\"../rdf_spc_pbc.dat\")"
   ]
  },
  {
   "cell_type": "code",
   "execution_count": null,
   "metadata": {},
   "outputs": [],
   "source": [
    "plt.figure(figsize=(10,10))\n",
    "\n",
    "plt.subplot(221)\n",
    "plt.xlim((2., 8))\n",
    "plt.ylim((0., 4.))\n",
    "plt.title('radius 15')\n",
    "plt.plot(VRDF[0][:,0], VRDF[0][:,1], 'k-', linewidth=2)\n",
    "plt.plot(DRDF[0][:,0], DRDF[0][:,1], 'rs--', linewidth=0)\n",
    "plt.plot(pbc_rdf[:,0], pbc_rdf[:,1], 'g.', linewidth=1)\n",
    "plt.xlabel(\"OO distance\")\n",
    "plt.ylabel(\"g(r)\")\n",
    "\n",
    "plt.subplot(222)\n",
    "plt.xlim((2., 8))\n",
    "plt.ylim((0., 4.))\n",
    "plt.title('radius 18')\n",
    "plt.plot(VRDF[1][:,0], VRDF[1][:,1], 'k-', linewidth=2)\n",
    "plt.plot(DRDF[1][:,0], DRDF[1][:,1], 'rs--', linewidth=0)\n",
    "plt.plot(pbc_rdf[:,0], pbc_rdf[:,1], 'g.', linewidth=1)\n",
    "plt.xlabel(\"OO distance\")\n",
    "\n",
    "plt.subplot(223)\n",
    "plt.xlim((2., 8))\n",
    "plt.ylim((0., 4.))\n",
    "plt.title('radius 20')\n",
    "plt.plot(VRDF[2][:,0], VRDF[2][:,1], 'k-', linewidth=2, label='vacuum')\n",
    "plt.plot(DRDF[2][:,0], DRDF[2][:,1], 'rs--', linewidth=0, label='ddCosmo')\n",
    "plt.plot(pbc_rdf[:,0], pbc_rdf[:,1], 'g.', linewidth=1, label='PBC')\n",
    "plt.xlabel(\"OO distance\")\n",
    "plt.legend()"
   ]
  },
  {
   "cell_type": "code",
   "execution_count": null,
   "metadata": {},
   "outputs": [],
   "source": [
    "fVRDF = np.array((VRDF[0][:,0], VRDF[0][:,1], VRDF[2][:,1]))\n",
    "fDRDF = np.array((DRDF[0][:,0], DRDF[0][:,1], DRDF[2][:,1]))"
   ]
  },
  {
   "cell_type": "code",
   "execution_count": null,
   "metadata": {},
   "outputs": [],
   "source": [
    "np.savetxt(\"vacuum_rdf_15_17_20.dat\", fVRDF)\n",
    "np.savetxt(\"ddc_rdf_15_17_20.dat\", fDRDF)"
   ]
  },
  {
   "cell_type": "markdown",
   "metadata": {},
   "source": [
    "## density \n",
    "\n",
    "concentric layers of constant volume"
   ]
  },
  {
   "cell_type": "code",
   "execution_count": null,
   "metadata": {},
   "outputs": [],
   "source": [
    "select = (0)\n",
    "natoms = 3\n",
    "nbins = 10\n",
    "volume = True\n",
    "from_wall = True"
   ]
  },
  {
   "cell_type": "markdown",
   "metadata": {},
   "source": [
    "### radius 15"
   ]
  },
  {
   "cell_type": "code",
   "execution_count": null,
   "metadata": {},
   "outputs": [],
   "source": [
    "VRHO = list()\n",
    "DRHO = list()"
   ]
  },
  {
   "cell_type": "markdown",
   "metadata": {},
   "source": [
    "#### vacuum"
   ]
  },
  {
   "cell_type": "code",
   "execution_count": null,
   "metadata": {},
   "outputs": [],
   "source": [
    "traj = Vtrajs[0]\n",
    "ndx = indexes[0] "
   ]
  },
  {
   "cell_type": "code",
   "execution_count": null,
   "metadata": {},
   "outputs": [],
   "source": [
    "rmin = 0.\n",
    "rmax = 15.5/10.\n",
    "target = npbc_io.parse_index(ndx, [select]).pop()"
   ]
  },
  {
   "cell_type": "code",
   "execution_count": null,
   "metadata": {},
   "outputs": [],
   "source": [
    "vol, Radii = npbc_io.sphere_radii(target, natoms, nbins, volume, rmin, rmax)\n",
    "rho = npbc_analysis.calc_density(-1, traj.n_frames, shift, vol, from_wall, traj, target, natoms, \\\n",
    "                                 Radii, weights[0])\n",
    "rho = rho.T\n",
    "VRHO.append(rho)"
   ]
  },
  {
   "cell_type": "markdown",
   "metadata": {},
   "source": [
    "**ddCosmo**"
   ]
  },
  {
   "cell_type": "code",
   "execution_count": null,
   "metadata": {},
   "outputs": [],
   "source": [
    "traj = Dtrajs[0]\n",
    "rho = npbc_analysis.calc_density(-1, traj.n_frames, shift, vol, from_wall, traj, target, natoms, \\\n",
    "                                    Radii, weights[0])\n",
    "rho = rho.T\n",
    "DRHO.append(rho)"
   ]
  },
  {
   "cell_type": "markdown",
   "metadata": {},
   "source": [
    "### radius 18"
   ]
  },
  {
   "cell_type": "markdown",
   "metadata": {},
   "source": [
    "#### vacuum"
   ]
  },
  {
   "cell_type": "code",
   "execution_count": null,
   "metadata": {},
   "outputs": [],
   "source": [
    "traj = Vtrajs[1]\n",
    "ndx = indexes[1] "
   ]
  },
  {
   "cell_type": "code",
   "execution_count": null,
   "metadata": {},
   "outputs": [],
   "source": [
    "rmin = 0.\n",
    "rmax = 18/10.\n",
    "target = npbc_io.parse_index(ndx, [select]).pop()"
   ]
  },
  {
   "cell_type": "code",
   "execution_count": null,
   "metadata": {},
   "outputs": [],
   "source": [
    "traj"
   ]
  },
  {
   "cell_type": "code",
   "execution_count": null,
   "metadata": {},
   "outputs": [],
   "source": [
    "vol, Radii = npbc_io.sphere_radii(target, natoms, nbins, volume, rmin, rmax)\n",
    "rho = npbc_analysis.calc_density(-1, traj.n_frames, shift, vol, from_wall, traj, target, natoms, \\\n",
    "                                 Radii, weights[1])\n",
    "rho = rho.T\n",
    "VRHO.append(rho)"
   ]
  },
  {
   "cell_type": "markdown",
   "metadata": {},
   "source": [
    "**ddCosmo**"
   ]
  },
  {
   "cell_type": "code",
   "execution_count": null,
   "metadata": {},
   "outputs": [],
   "source": [
    "traj = Dtrajs[1]\n",
    "rho = npbc_analysis.calc_density(-1, traj.n_frames, shift, vol, from_wall, traj, target, natoms, \\\n",
    "                                    Radii, weights[1])\n",
    "rho = rho.T\n",
    "DRHO.append(rho)"
   ]
  },
  {
   "cell_type": "markdown",
   "metadata": {},
   "source": [
    "### radius 20"
   ]
  },
  {
   "cell_type": "markdown",
   "metadata": {},
   "source": [
    "#### vacuum"
   ]
  },
  {
   "cell_type": "code",
   "execution_count": null,
   "metadata": {},
   "outputs": [],
   "source": [
    "traj = Vtrajs[2]\n",
    "ndx = indexes[2] "
   ]
  },
  {
   "cell_type": "code",
   "execution_count": null,
   "metadata": {},
   "outputs": [],
   "source": [
    "rmin = 0.\n",
    "rmax = 20./10.\n",
    "target = npbc_io.parse_index(ndx, [select]).pop()"
   ]
  },
  {
   "cell_type": "code",
   "execution_count": null,
   "metadata": {},
   "outputs": [],
   "source": [
    "vol, Radii = npbc_io.sphere_radii(target, natoms, nbins, volume, rmin, rmax)\n",
    "rho = npbc_analysis.calc_density(-1, traj.n_frames, shift, vol, from_wall, traj, target, natoms, \\\n",
    "                                 Radii, weights[2])\n",
    "rho = rho.T\n",
    "VRHO.append(rho)"
   ]
  },
  {
   "cell_type": "markdown",
   "metadata": {},
   "source": [
    "**ddCosmo**"
   ]
  },
  {
   "cell_type": "code",
   "execution_count": null,
   "metadata": {},
   "outputs": [],
   "source": [
    "traj = Dtrajs[2]\n",
    "rho = npbc_analysis.calc_density(-1, traj.n_frames, shift, vol, from_wall, traj, target, natoms, \\\n",
    "                                    Radii, weights[2])\n",
    "rho = rho.T\n",
    "DRHO.append(rho)"
   ]
  },
  {
   "cell_type": "code",
   "execution_count": null,
   "metadata": {},
   "outputs": [],
   "source": [
    "plt.figure(figsize=(10,10))\n",
    "\n",
    "plt.subplot(221)\n",
    "plt.title('radius 15')\n",
    "plt.errorbar(VRHO[0][:,0], VRHO[0][:,1], fmt='go-', yerr=VRHO[0][:,2], linewidth=1, label='vacuum')\n",
    "plt.errorbar(DRHO[0][:,0], DRHO[0][:,1], fmt='rs--', yerr=DRHO[0][:,2], linewidth=1, label='ddCosmo')\n",
    "plt.xlabel(\"distance from wall\")\n",
    "plt.ylabel(\"mol/l\")\n",
    "plt.legend()\n",
    "\n",
    "plt.subplot(222)\n",
    "plt.title('radius 17')\n",
    "plt.errorbar(VRHO[1][:,0], VRHO[1][:,1], fmt='go-', yerr=VRHO[1][:,2], linewidth=1, label='vacuum')\n",
    "plt.errorbar(DRHO[1][:,0], DRHO[1][:,1], fmt='rs--', yerr=DRHO[1][:,2], linewidth=1, label='ddCosmo')\n",
    "plt.xlabel(\"distance from wall\")\n",
    "plt.ylabel(\"mol/l\")\n",
    "plt.legend()\n",
    "\n",
    "plt.subplot(223)\n",
    "plt.title('radius 20')\n",
    "plt.errorbar(VRHO[2][:,0], VRHO[2][:,1], fmt='go-', yerr=VRHO[2][:,2], linewidth=1, label='vacuum')\n",
    "plt.errorbar(DRHO[2][:,0], DRHO[2][:,1], fmt='rs--', yerr=DRHO[2][:,2], linewidth=1, label='ddCosmo')\n",
    "plt.xlabel(\"distance from wall\")\n",
    "plt.ylabel(\"mol/l\")\n",
    "plt.legend()"
   ]
  },
  {
   "cell_type": "code",
   "execution_count": null,
   "metadata": {},
   "outputs": [],
   "source": [
    "fVRHO = np.array((VRHO[0][:,0], VRHO[0][:,1], VRHO[2][:,1]))\n",
    "fDRHO = np.array((DRHO[0][:,0], DRHO[0][:,1], DRHO[2][:,1]))"
   ]
  },
  {
   "cell_type": "code",
   "execution_count": null,
   "metadata": {},
   "outputs": [],
   "source": [
    "np.savetxt(\"vacuum_rho_15_17_20.dat\", fVRHO)\n",
    "np.savetxt(\"ddc_rho_15_17_20.dat\",  fDRHO)"
   ]
  },
  {
   "cell_type": "markdown",
   "metadata": {},
   "source": [
    "## orientation\n",
    "\n",
    "angle between dipole moment vector and sphere radius passing trought the center of mass"
   ]
  },
  {
   "cell_type": "code",
   "execution_count": null,
   "metadata": {},
   "outputs": [],
   "source": [
    "VT = list()\n",
    "DT = list()"
   ]
  },
  {
   "cell_type": "code",
   "execution_count": null,
   "metadata": {},
   "outputs": [],
   "source": [
    "select = (0)\n",
    "natoms = 3\n",
    "nbins = 10\n",
    "normV = False\n",
    "axis = False\n",
    "shift = np.zeros(3)\n",
    "natoms = 3\n",
    "top = tops[0]"
   ]
  },
  {
   "cell_type": "markdown",
   "metadata": {},
   "source": [
    "### radius 15"
   ]
  },
  {
   "cell_type": "markdown",
   "metadata": {},
   "source": [
    "#### vacuum"
   ]
  },
  {
   "cell_type": "code",
   "execution_count": null,
   "metadata": {},
   "outputs": [],
   "source": [
    "rmin = 0.\n",
    "rmax = 15.5/10."
   ]
  },
  {
   "cell_type": "code",
   "execution_count": null,
   "metadata": {},
   "outputs": [],
   "source": [
    "traj = Vtrajs[0]\n",
    "ndx = indexes[0]"
   ]
  },
  {
   "cell_type": "code",
   "execution_count": null,
   "metadata": {},
   "outputs": [],
   "source": [
    "target = npbc_io.parse_index(ndx, [select]).pop()"
   ]
  },
  {
   "cell_type": "code",
   "execution_count": null,
   "metadata": {},
   "outputs": [],
   "source": [
    "vol, Radii = npbc_io.sphere_radii(target, natoms, nbins, volume, rmin, rmax)"
   ]
  },
  {
   "cell_type": "code",
   "execution_count": null,
   "metadata": {},
   "outputs": [],
   "source": [
    "tf, theta = npbc_analysis.calc_orient(normV, -1, traj.n_frames, traj, shift, top, target, axis, vol,\\\n",
    "                                  Radii, weights[0], natoms)\n",
    "VT.append(theta)"
   ]
  },
  {
   "cell_type": "markdown",
   "metadata": {},
   "source": [
    "#### ddCosmo"
   ]
  },
  {
   "cell_type": "code",
   "execution_count": null,
   "metadata": {},
   "outputs": [],
   "source": [
    "traj = Dtrajs[0]"
   ]
  },
  {
   "cell_type": "code",
   "execution_count": null,
   "metadata": {},
   "outputs": [],
   "source": [
    "tf, theta = npbc_analysis.calc_orient(normV, -1, traj.n_frames, traj, shift, top, target, axis, vol,\\\n",
    "                                  Radii, weights[0], natoms)\n",
    "DT.append(theta)"
   ]
  },
  {
   "cell_type": "markdown",
   "metadata": {},
   "source": [
    "### radius 18"
   ]
  },
  {
   "cell_type": "markdown",
   "metadata": {},
   "source": [
    "#### vacuum"
   ]
  },
  {
   "cell_type": "code",
   "execution_count": null,
   "metadata": {},
   "outputs": [],
   "source": [
    "rmin = 0.\n",
    "rmax = 18/10."
   ]
  },
  {
   "cell_type": "code",
   "execution_count": null,
   "metadata": {},
   "outputs": [],
   "source": [
    "traj = Vtrajs[1]\n",
    "ndx = indexes[1]"
   ]
  },
  {
   "cell_type": "code",
   "execution_count": null,
   "metadata": {},
   "outputs": [],
   "source": [
    "target = npbc_io.parse_index(ndx, [select]).pop()"
   ]
  },
  {
   "cell_type": "code",
   "execution_count": null,
   "metadata": {},
   "outputs": [],
   "source": [
    "vol, Radii = npbc_io.sphere_radii(target, natoms, nbins, volume, rmin, rmax)"
   ]
  },
  {
   "cell_type": "code",
   "execution_count": null,
   "metadata": {},
   "outputs": [],
   "source": [
    "tf, theta = npbc_analysis.calc_orient(normV, -1, traj.n_frames, traj, shift, top, target, axis, vol,\\\n",
    "                                  Radii, weights[1], natoms)\n",
    "VT.append(theta)"
   ]
  },
  {
   "cell_type": "markdown",
   "metadata": {},
   "source": [
    "#### ddCosmo"
   ]
  },
  {
   "cell_type": "code",
   "execution_count": null,
   "metadata": {},
   "outputs": [],
   "source": [
    "traj = Dtrajs[1]"
   ]
  },
  {
   "cell_type": "code",
   "execution_count": null,
   "metadata": {},
   "outputs": [],
   "source": [
    "tf, theta = npbc_analysis.calc_orient(normV, -1, traj.n_frames, traj, shift, top, target, axis, vol,\\\n",
    "                                  Radii, weights[1], natoms)\n",
    "DT.append(theta)"
   ]
  },
  {
   "cell_type": "markdown",
   "metadata": {},
   "source": [
    "### radius 20"
   ]
  },
  {
   "cell_type": "markdown",
   "metadata": {},
   "source": [
    "#### vacuum"
   ]
  },
  {
   "cell_type": "code",
   "execution_count": null,
   "metadata": {},
   "outputs": [],
   "source": [
    "rmin = 0.\n",
    "rmax = 20/10."
   ]
  },
  {
   "cell_type": "code",
   "execution_count": null,
   "metadata": {},
   "outputs": [],
   "source": [
    "traj = Vtrajs[2]\n",
    "ndx = indexes[2]"
   ]
  },
  {
   "cell_type": "code",
   "execution_count": null,
   "metadata": {},
   "outputs": [],
   "source": [
    "target = npbc_io.parse_index(ndx, [select]).pop()"
   ]
  },
  {
   "cell_type": "code",
   "execution_count": null,
   "metadata": {},
   "outputs": [],
   "source": [
    "vol, Radii = npbc_io.sphere_radii(target, natoms, nbins, volume, rmin, rmax)"
   ]
  },
  {
   "cell_type": "code",
   "execution_count": null,
   "metadata": {},
   "outputs": [],
   "source": [
    "tf, theta = npbc_analysis.calc_orient(normV, 1000, 3000, traj, shift, top, target, axis, vol,\\\n",
    "                                  Radii, weights[2], natoms)\n",
    "VT.append(theta)"
   ]
  },
  {
   "cell_type": "markdown",
   "metadata": {},
   "source": [
    "#### ddCosmo"
   ]
  },
  {
   "cell_type": "code",
   "execution_count": null,
   "metadata": {},
   "outputs": [],
   "source": [
    "traj = Dtrajs[2]"
   ]
  },
  {
   "cell_type": "code",
   "execution_count": null,
   "metadata": {},
   "outputs": [],
   "source": [
    "tf, theta = npbc_analysis.calc_orient(normV, 1000, 3000, traj, shift, top, target, axis, vol,\\\n",
    "                                  Radii, weights[2], natoms)\n",
    "DT.append(theta)"
   ]
  },
  {
   "cell_type": "code",
   "execution_count": null,
   "metadata": {},
   "outputs": [],
   "source": [
    "plt.figure(figsize=(10,10))\n",
    "\n",
    "plt.subplot(221)\n",
    "plt.title('radius 15')\n",
    "plt.errorbar(VT[0][:,0], VT[0][:,1], fmt='go-', yerr=VT[0][:,2], linewidth=1, label='radius 8.5')\n",
    "plt.errorbar(DT[0][:,0], DT[0][:,1], fmt='rs--', yerr=DT[0][:,2], linewidth=1, label='radius 8.5')\n",
    "plt.xlabel(\"distance from wall\")\n",
    "plt.ylabel(\"orientation\")\n",
    "plt.legend()\n",
    "\n",
    "plt.subplot(222)\n",
    "plt.title('radius 18')\n",
    "plt.errorbar(VT[0][:,0], VT[0][:,1], fmt='go-', yerr=VT[0][:,2], linewidth=1, label='radius 8.5')\n",
    "plt.errorbar(DT[0][:,0], DT[0][:,1], fmt='rs--', yerr=DT[0][:,2], linewidth=1, label='radius 8.5')\n",
    "plt.xlabel(\"distance from wall\")\n",
    "plt.ylabel(\"orientation\")\n",
    "plt.legend()\n",
    "\n",
    "plt.subplot(223)\n",
    "plt.title('radius 20')\n",
    "plt.errorbar(VT[0][:,0], VT[0][:,1], fmt='go-', yerr=VT[0][:,2], linewidth=1, label='radius 8.5')\n",
    "plt.errorbar(DT[0][:,0], DT[0][:,1], fmt='rs--', yerr=DT[0][:,2], linewidth=1, label='radius 8.5')\n",
    "plt.xlabel(\"distance from wall\")\n",
    "plt.ylabel(\"orientation\")\n",
    "plt.legend()"
   ]
  },
  {
   "cell_type": "code",
   "execution_count": null,
   "metadata": {},
   "outputs": [],
   "source": [
    "fVT = (VT[0][:,0], VT[0][:,1], VT[2][:,1])\n",
    "fDT = (DT[0][:,0], DT[0][:,1], DT[2][:,1])"
   ]
  },
  {
   "cell_type": "code",
   "execution_count": null,
   "metadata": {},
   "outputs": [],
   "source": [
    "np.savetxt(\"vacuum_theta_15_17_20.dat\", fVT)\n",
    "np.savetxt(\"ddc_theta_15_17_20.dat\",  fDT)"
   ]
  }
 ],
 "metadata": {
  "kernelspec": {
   "display_name": "Python 3",
   "language": "python",
   "name": "python3"
  },
  "language_info": {
   "codemirror_mode": {
    "name": "ipython",
    "version": 3
   },
   "file_extension": ".py",
   "mimetype": "text/x-python",
   "name": "python",
   "nbconvert_exporter": "python",
   "pygments_lexer": "ipython3",
   "version": "3.8.10"
  }
 },
 "nbformat": 4,
 "nbformat_minor": 4
}
