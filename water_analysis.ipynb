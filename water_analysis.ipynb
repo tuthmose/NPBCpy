{
 "cells": [
  {
   "cell_type": "markdown",
   "metadata": {},
   "source": [
    "# $H_2O$ box size effect"
   ]
  },
  {
   "cell_type": "markdown",
   "metadata": {},
   "source": [
    "load libraries"
   ]
  },
  {
   "cell_type": "code",
   "execution_count": 1,
   "metadata": {},
   "outputs": [],
   "source": [
    "import mdtraj as md\n",
    "import numpy as np\n",
    "import os\n",
    "import random\n",
    "import scipy as sp\n",
    "import sys\n",
    "import matplotlib.pyplot as plt\n",
    "import seaborn as sb\n",
    "%matplotlib inline\n",
    "%load_ext autoreload"
   ]
  },
  {
   "cell_type": "code",
   "execution_count": 2,
   "metadata": {},
   "outputs": [],
   "source": [
    "sys.path.append(\"/home/gmancini/Dropbox/appunti/NPBCpy\")\n",
    "import npbc_io, npbc_analysis, npbc_cy\n",
    "%autoreload 2"
   ]
  },
  {
   "cell_type": "markdown",
   "metadata": {},
   "source": [
    "## Load data"
   ]
  },
  {
   "cell_type": "code",
   "execution_count": 3,
   "metadata": {},
   "outputs": [],
   "source": [
    "#box_sizes = np.array((8.5, 10, 12, 15, 17, 20))\n",
    "#traj_names = [\"radius085\", \"radius10\", \"radius12\",\"radius15\", \"radius17\",\"radius20\"]\n",
    "box_sizes = np.array((8.5, 10, 12))\n",
    "traj_names = [\"radius085\", \"radius10\", \"radius12\"]\n",
    "pdbs = [n+\".pdb\" for n in traj_names]\n",
    "indexes = [n+\".ndx\" for n in traj_names]"
   ]
  },
  {
   "cell_type": "markdown",
   "metadata": {},
   "source": [
    "#### vacuum"
   ]
  },
  {
   "cell_type": "code",
   "execution_count": 4,
   "metadata": {},
   "outputs": [],
   "source": [
    "os.chdir(\"/home/gmancini/data/devel/gaussian/test_nb/vacuum\")"
   ]
  },
  {
   "cell_type": "code",
   "execution_count": 5,
   "metadata": {},
   "outputs": [],
   "source": [
    "Vtrajs = [md.load(n+\".xtc\", top=n+\".pdb\") for n in traj_names]\n",
    "tops = [trj.topology for trj in Vtrajs]\n",
    "weights = [[a.element.mass for a in top.atoms] for top in tops]\n",
    "weights = np.array(weights, dtype=object)"
   ]
  },
  {
   "cell_type": "markdown",
   "metadata": {},
   "source": [
    "#### ddCosmo"
   ]
  },
  {
   "cell_type": "code",
   "execution_count": 6,
   "metadata": {},
   "outputs": [],
   "source": [
    "os.chdir(\"/home/gmancini/data/devel/gaussian/test_nb/ddCosmo\")"
   ]
  },
  {
   "cell_type": "code",
   "execution_count": 7,
   "metadata": {},
   "outputs": [],
   "source": [
    "Dtrajs = [md.load(n+\".xtc\", top=n+\".pdb\") for n in traj_names]"
   ]
  },
  {
   "cell_type": "markdown",
   "metadata": {},
   "source": [
    "### print number of frames"
   ]
  },
  {
   "cell_type": "code",
   "execution_count": 8,
   "metadata": {},
   "outputs": [
    {
     "name": "stdout",
     "output_type": "stream",
     "text": [
      "12501\n",
      "125001\n",
      "125001\n"
     ]
    }
   ],
   "source": [
    "for trj in Vtrajs:\n",
    "    print(trj.n_frames)"
   ]
  },
  {
   "cell_type": "code",
   "execution_count": 9,
   "metadata": {},
   "outputs": [
    {
     "name": "stdout",
     "output_type": "stream",
     "text": [
      "12501\n",
      "125001\n",
      "125001\n"
     ]
    }
   ],
   "source": [
    "for trj in Dtrajs:\n",
    "    print(trj.n_frames)"
   ]
  },
  {
   "cell_type": "markdown",
   "metadata": {},
   "source": [
    "# Properties"
   ]
  },
  {
   "cell_type": "markdown",
   "metadata": {},
   "source": [
    "## radial distribution functions (O-O)"
   ]
  },
  {
   "cell_type": "markdown",
   "metadata": {},
   "source": [
    "Index files are the `vacuum` folder"
   ]
  },
  {
   "cell_type": "code",
   "execution_count": 100,
   "metadata": {},
   "outputs": [],
   "source": [
    "os.chdir(\"/home/gmancini/data/devel/gaussian/test_nb/vacuum\")"
   ]
  },
  {
   "cell_type": "code",
   "execution_count": 101,
   "metadata": {},
   "outputs": [],
   "source": [
    "VRDF = list()\n",
    "DRDF = list()"
   ]
  },
  {
   "cell_type": "markdown",
   "metadata": {},
   "source": [
    "### radius 8.5"
   ]
  },
  {
   "cell_type": "markdown",
   "metadata": {},
   "source": [
    "RDF calculation parameters"
   ]
  },
  {
   "cell_type": "code",
   "execution_count": 102,
   "metadata": {},
   "outputs": [],
   "source": [
    "shift = np.zeros(3)\n",
    "nbins = 100\n",
    "calc_cn = True\n",
    "smooth = False\n",
    "norm = True\n",
    "shift = shift/10"
   ]
  },
  {
   "cell_type": "code",
   "execution_count": 103,
   "metadata": {},
   "outputs": [],
   "source": [
    "rmax = np.asarray((0., 4.5))\n",
    "dmax = 4.\n",
    "radius = 8.5\n",
    "radius = radius/10.\n",
    "dmax = dmax/10\n",
    "rmax = rmax/10"
   ]
  },
  {
   "cell_type": "markdown",
   "metadata": {},
   "source": [
    "**vacuum**"
   ]
  },
  {
   "cell_type": "code",
   "execution_count": 104,
   "metadata": {},
   "outputs": [],
   "source": [
    "traj = Vtrajs[0]\n",
    "ndx = indexes[0] "
   ]
  },
  {
   "cell_type": "code",
   "execution_count": 105,
   "metadata": {},
   "outputs": [
    {
     "name": "stdout",
     "output_type": "stream",
     "text": [
      "--- Parsing index file\n",
      "--- Found 3 atom groups\n",
      "--- Selected groups 1:O\n",
      "--- Selected groups 1:O\n"
     ]
    }
   ],
   "source": [
    "select = (1,1)\n",
    "group_A, group_B = npbc_io.parse_index(ndx, select)"
   ]
  },
  {
   "cell_type": "code",
   "execution_count": 106,
   "metadata": {},
   "outputs": [
    {
     "name": "stdout",
     "output_type": "stream",
     "text": [
      "--- Number density in system is  22.935416183403607\n",
      "--- Read  11501  frames\n",
      "--- Average number of reference molecules  13.460742544126598\n",
      "--- Average number density in dmax  29.42339594477752\n"
     ]
    }
   ],
   "source": [
    "xbins, rdf, cn = npbc_analysis.calc_rdf(1001, traj.n_frames, nbins, calc_cn, smooth, norm, radius, \\\n",
    "                                  rmax, dmax, shift, traj, group_A, group_B)\n",
    "rdf_oo = np.vstack((xbins, rdf, cn)).T\n",
    "VRDF.append(rdf_oo)"
   ]
  },
  {
   "cell_type": "markdown",
   "metadata": {},
   "source": [
    "**ddCosmo**"
   ]
  },
  {
   "cell_type": "code",
   "execution_count": 107,
   "metadata": {},
   "outputs": [],
   "source": [
    "traj = Dtrajs[0]"
   ]
  },
  {
   "cell_type": "code",
   "execution_count": 108,
   "metadata": {
    "scrolled": true
   },
   "outputs": [
    {
     "name": "stdout",
     "output_type": "stream",
     "text": [
      "--- Number density in system is  22.935416183403607\n",
      "--- Read  11501  frames\n",
      "--- Average number of reference molecules  13.202764976958525\n",
      "--- Average number density in dmax  29.692255963649124\n"
     ]
    }
   ],
   "source": [
    "xbins, rdf, cn = npbc_analysis.calc_rdf(1001, traj.n_frames, nbins, calc_cn, smooth, norm, radius, \\\n",
    "                                  rmax, dmax, shift, traj, group_A, group_B)\n",
    "rdf_oo = np.vstack((xbins, rdf, cn)).T\n",
    "DRDF.append(rdf_oo)"
   ]
  },
  {
   "cell_type": "markdown",
   "metadata": {},
   "source": [
    "### radius 10"
   ]
  },
  {
   "cell_type": "code",
   "execution_count": 109,
   "metadata": {},
   "outputs": [],
   "source": [
    "rmax = np.asarray((0., 6.))\n",
    "dmax = 4.\n",
    "radius = 10.\n",
    "radius = radius/10.\n",
    "dmax = dmax/10\n",
    "rmax = rmax/10"
   ]
  },
  {
   "cell_type": "markdown",
   "metadata": {},
   "source": [
    "**vacuum**"
   ]
  },
  {
   "cell_type": "code",
   "execution_count": 110,
   "metadata": {},
   "outputs": [],
   "source": [
    "traj = Vtrajs[1]\n",
    "ndx = indexes[1] "
   ]
  },
  {
   "cell_type": "code",
   "execution_count": 111,
   "metadata": {},
   "outputs": [
    {
     "name": "stdout",
     "output_type": "stream",
     "text": [
      "--- Parsing index file\n",
      "--- Found 3 atom groups\n",
      "--- Selected groups 1:O\n",
      "--- Selected groups 1:O\n"
     ]
    }
   ],
   "source": [
    "group_A, group_B = npbc_io.parse_index(ndx, select)"
   ]
  },
  {
   "cell_type": "code",
   "execution_count": 112,
   "metadata": {},
   "outputs": [
    {
     "name": "stdout",
     "output_type": "stream",
     "text": [
      "--- Number density in system is  38.91338358596841\n",
      "--- Read  124001  frames\n",
      "--- Average number of reference molecules  33.40589188796864\n",
      "--- Average number density in dmax  33.62856081853912\n"
     ]
    }
   ],
   "source": [
    "xbins, rdf, cn = npbc_analysis.calc_rdf(1001, traj.n_frames, nbins, calc_cn, smooth, norm, radius, \\\n",
    "                                  rmax, dmax, shift, traj, group_A, group_B)\n",
    "rdf_oo = np.vstack((xbins, rdf, cn)).T\n",
    "VRDF.append(rdf_oo)"
   ]
  },
  {
   "cell_type": "markdown",
   "metadata": {},
   "source": [
    "**ddCosmo**"
   ]
  },
  {
   "cell_type": "code",
   "execution_count": 113,
   "metadata": {},
   "outputs": [],
   "source": [
    "traj = Dtrajs[1]"
   ]
  },
  {
   "cell_type": "code",
   "execution_count": 114,
   "metadata": {
    "scrolled": false
   },
   "outputs": [
    {
     "name": "stdout",
     "output_type": "stream",
     "text": [
      "--- Number density in system is  38.91338358596841\n",
      "--- Read  123501  frames\n",
      "--- Average number of reference molecules  33.67748439283893\n",
      "--- Average number density in dmax  34.09649845745834\n"
     ]
    },
    {
     "data": {
      "text/plain": [
       "(100, 3)"
      ]
     },
     "execution_count": 114,
     "metadata": {},
     "output_type": "execute_result"
    }
   ],
   "source": [
    "xbins, rdf, cn = npbc_analysis.calc_rdf(1501, traj.n_frames, nbins, calc_cn, smooth, norm, radius, \\\n",
    "                                  rmax, dmax, shift, traj, group_A, group_B)\n",
    "rdf_oo = np.vstack((xbins, rdf, cn)).T\n",
    "DRDF.append(rdf_oo)\n",
    "rdf_oo.shape"
   ]
  },
  {
   "cell_type": "markdown",
   "metadata": {},
   "source": [
    "### radius 12"
   ]
  },
  {
   "cell_type": "code",
   "execution_count": 115,
   "metadata": {},
   "outputs": [],
   "source": [
    "rmax = np.asarray((0., 8.))\n",
    "dmax = 4.\n",
    "radius = 10.\n",
    "radius = radius/10.\n",
    "dmax = dmax/10\n",
    "rmax = rmax/10"
   ]
  },
  {
   "cell_type": "markdown",
   "metadata": {},
   "source": [
    "**vacuum**"
   ]
  },
  {
   "cell_type": "code",
   "execution_count": 116,
   "metadata": {},
   "outputs": [],
   "source": [
    "traj = Vtrajs[2]\n",
    "ndx = indexes[2] "
   ]
  },
  {
   "cell_type": "code",
   "execution_count": 117,
   "metadata": {},
   "outputs": [
    {
     "name": "stdout",
     "output_type": "stream",
     "text": [
      "--- Parsing index file\n",
      "--- Found 3 atom groups\n",
      "--- Selected groups 1:O\n",
      "--- Selected groups 1:O\n"
     ]
    }
   ],
   "source": [
    "select = (1,1)\n",
    "group_A, group_B = npbc_io.parse_index(ndx, select)"
   ]
  },
  {
   "cell_type": "code",
   "execution_count": 121,
   "metadata": {},
   "outputs": [
    {
     "name": "stdout",
     "output_type": "stream",
     "text": [
      "--- Number density in system is  70.66479473280154\n",
      "--- Read  9000  frames\n",
      "--- Average number of reference molecules  71.98944444444444\n",
      "--- Average number density in dmax  30.07166530046357\n"
     ]
    },
    {
     "data": {
      "text/plain": [
       "(100, 3)"
      ]
     },
     "execution_count": 121,
     "metadata": {},
     "output_type": "execute_result"
    }
   ],
   "source": [
    "xbins, rdf, cn = npbc_analysis.calc_rdf(1001, 10000, nbins, calc_cn, smooth, norm, radius, \\\n",
    "                                  rmax, dmax, shift, traj, group_A, group_B)\n",
    "rdf_oo = np.vstack((xbins, rdf, cn)).T\n",
    "VRDF.append(rdf_oo)\n",
    "rdf_oo.shape"
   ]
  },
  {
   "cell_type": "markdown",
   "metadata": {},
   "source": [
    "**ddCosmo**"
   ]
  },
  {
   "cell_type": "code",
   "execution_count": 122,
   "metadata": {},
   "outputs": [],
   "source": [
    "traj = Dtrajs[2]"
   ]
  },
  {
   "cell_type": "code",
   "execution_count": 123,
   "metadata": {
    "scrolled": false
   },
   "outputs": [
    {
     "name": "stdout",
     "output_type": "stream",
     "text": [
      "--- Number density in system is  70.66479473280154\n",
      "--- Read  124001  frames\n",
      "--- Average number of reference molecules  72.02453206022533\n",
      "--- Average number density in dmax  29.990869245278002\n"
     ]
    },
    {
     "data": {
      "text/plain": [
       "(100, 3)"
      ]
     },
     "execution_count": 123,
     "metadata": {},
     "output_type": "execute_result"
    }
   ],
   "source": [
    "xbins, rdf, cn = npbc_analysis.calc_rdf(1001, traj.n_frames, nbins, calc_cn, smooth, norm, radius, \\\n",
    "                                  rmax, dmax, shift, traj, group_A, group_B)\n",
    "rdf_oo = np.vstack((xbins, rdf, cn)).T\n",
    "DRDF.append(rdf_oo)\n",
    "rdf_oo.shape"
   ]
  },
  {
   "cell_type": "markdown",
   "metadata": {},
   "source": [
    "**PBC data**"
   ]
  },
  {
   "cell_type": "code",
   "execution_count": 124,
   "metadata": {},
   "outputs": [],
   "source": [
    "pbc_rdf = np.loadtxt(\"../rdf_spc_pbc.dat\")"
   ]
  },
  {
   "cell_type": "code",
   "execution_count": 125,
   "metadata": {},
   "outputs": [
    {
     "data": {
      "text/plain": [
       "<matplotlib.legend.Legend at 0x7fe9653f56d0>"
      ]
     },
     "execution_count": 125,
     "metadata": {},
     "output_type": "execute_result"
    },
    {
     "data": {
      "image/png": "[encoded data removed]",
      "text/plain": [
       "<Figure size 720x720 with 3 Axes>"
      ]
     },
     "metadata": {
      "needs_background": "light"
     },
     "output_type": "display_data"
    }
   ],
   "source": [
    "plt.figure(figsize=(10,10))\n",
    "\n",
    "plt.subplot(221)\n",
    "plt.xlim((2., 4.5))\n",
    "plt.ylim((0., 4.))\n",
    "plt.title('radius 8.5')\n",
    "plt.plot(VRDF[0][:,0], VRDF[0][:,1], 'k-', linewidth=2)\n",
    "plt.plot(DRDF[0][:,0], DRDF[0][:,1], 'rs--', linewidth=0)\n",
    "plt.plot(pbc_rdf[:,0], pbc_rdf[:,1], 'g.', linewidth=1)\n",
    "plt.xlabel(\"OO distance\")\n",
    "plt.ylabel(\"g(r)\")\n",
    "\n",
    "plt.subplot(222)\n",
    "plt.xlim((2., 4.5))\n",
    "plt.ylim((0., 4.))\n",
    "plt.title('radius 10')\n",
    "plt.plot(VRDF[1][:,0], VRDF[1][:,1], 'k-', linewidth=2)\n",
    "plt.plot(DRDF[1][:,0], DRDF[1][:,1], 'rs--', linewidth=0)\n",
    "plt.plot(pbc_rdf[:,0], pbc_rdf[:,1], 'g.', linewidth=1)\n",
    "plt.xlabel(\"OO distance\")\n",
    "\n",
    "plt.subplot(223)\n",
    "plt.xlim((2., 4.5))\n",
    "plt.ylim((0., 4.))\n",
    "plt.title('radius 12')\n",
    "plt.plot(VRDF[-1][:,0], VRDF[-1][:,1], 'k-', linewidth=2, label='vacuum')\n",
    "plt.plot(DRDF[-1][:,0], DRDF[-1][:,1], 'rs--', linewidth=0, label='ddCosmo')\n",
    "plt.plot(pbc_rdf[:,0], pbc_rdf[:,1], 'g.', linewidth=1, label='PBC')\n",
    "plt.xlabel(\"OO distance\")\n",
    "plt.legend()"
   ]
  },
  {
   "cell_type": "code",
   "execution_count": 126,
   "metadata": {},
   "outputs": [],
   "source": [
    "fVRDF = np.array((VRDF[0][:,0], VRDF[0][:,1], VRDF[2][:,1]))\n",
    "fDRDF = np.array((DRDF[0][:,0], DRDF[0][:,1], DRDF[2][:,1]))"
   ]
  },
  {
   "cell_type": "code",
   "execution_count": 127,
   "metadata": {},
   "outputs": [],
   "source": [
    "np.savetxt(\"vacuum_rdf_8_10_12.dat\", fVRDF)\n",
    "np.savetxt(\"ddc_rdf_8_10_12.dat\", fDRDF)"
   ]
  },
  {
   "cell_type": "markdown",
   "metadata": {},
   "source": [
    "## density \n",
    "\n",
    "concentric layers of constant volume"
   ]
  },
  {
   "cell_type": "code",
   "execution_count": 35,
   "metadata": {},
   "outputs": [],
   "source": [
    "select = (0)\n",
    "natoms = 3\n",
    "nbins = 5\n",
    "volume = True\n",
    "from_wall = True"
   ]
  },
  {
   "cell_type": "markdown",
   "metadata": {},
   "source": [
    "### radius 8.5"
   ]
  },
  {
   "cell_type": "code",
   "execution_count": 36,
   "metadata": {},
   "outputs": [],
   "source": [
    "VRHO = list()\n",
    "DRHO = list()"
   ]
  },
  {
   "cell_type": "markdown",
   "metadata": {},
   "source": [
    "#### vacuum"
   ]
  },
  {
   "cell_type": "code",
   "execution_count": 37,
   "metadata": {},
   "outputs": [],
   "source": [
    "traj = Vtrajs[0]\n",
    "ndx = indexes[0] "
   ]
  },
  {
   "cell_type": "code",
   "execution_count": 38,
   "metadata": {},
   "outputs": [
    {
     "name": "stdout",
     "output_type": "stream",
     "text": [
      "--- Parsing index file\n",
      "--- Found 3 atom groups\n",
      "--- Selected groups 0:System\n"
     ]
    }
   ],
   "source": [
    "rmin = 0.\n",
    "rmax = 8.5/10.\n",
    "target = npbc_io.parse_index(ndx, [select])"
   ]
  },
  {
   "cell_type": "code",
   "execution_count": 39,
   "metadata": {},
   "outputs": [
    {
     "name": "stdout",
     "output_type": "stream",
     "text": [
      "--- Using concentrinc shells of volume:  0.5144881569028883  angstroem^3\n",
      "--- Layer  1  radii=  0.0 -> 0.4970830154961872  nm, Vol, 0.5144881569028884\n",
      "--- Layer  2  radii=  0.4970830154961872 -> 0.6262853547688657  nm, Vol, 0.5144881569028884\n",
      "--- Layer  3  radii=  0.6262853547688657 -> 0.7169177655064869  nm, Vol, 0.5144881569028887\n",
      "--- Layer  4  radii=  0.7169177655064869 -> 0.7890701017141724  nm, Vol, 0.5144881569028877\n",
      "--- Layer  5  radii=  0.7890701017141724 -> 0.85  nm, Vol, 0.5144881569028885\n",
      "--- # Atoms and molecules 177 59.0\n",
      "--- Average density (for molecules), is:  22.935416183403607  molecules/nm3, i.e.  38.08515459443297  mol/l\n",
      "--- Reading frames\n",
      "--- Read  11501  frames\n"
     ]
    }
   ],
   "source": [
    "vol, Radii = npbc_io.sphere_radii(target, natoms, nbins, volume, rmin, rmax)\n",
    "rho = npbc_analysis.calc_density(1001, traj.n_frames, shift, from_wall, volume, traj, target, natoms, \\\n",
    "                                 Radii, weights[0])\n",
    "rho = rho.T\n",
    "VRHO.append(rho)"
   ]
  },
  {
   "cell_type": "markdown",
   "metadata": {},
   "source": [
    "**ddCosmo**"
   ]
  },
  {
   "cell_type": "code",
   "execution_count": 40,
   "metadata": {},
   "outputs": [
    {
     "name": "stdout",
     "output_type": "stream",
     "text": [
      "--- Reading frames\n",
      "--- Read  11501  frames\n"
     ]
    }
   ],
   "source": [
    "traj = Dtrajs[0]\n",
    "rho = npbc_analysis.calc_density(1001, traj.n_frames, shift, from_wall, volume, traj, target, natoms, \\\n",
    "                                    Radii, weights[0])\n",
    "rho = rho.T\n",
    "DRHO.append(rho)"
   ]
  },
  {
   "cell_type": "markdown",
   "metadata": {},
   "source": [
    "### radius 10"
   ]
  },
  {
   "cell_type": "markdown",
   "metadata": {},
   "source": [
    "#### vacuum"
   ]
  },
  {
   "cell_type": "code",
   "execution_count": 41,
   "metadata": {},
   "outputs": [],
   "source": [
    "traj = Vtrajs[1]\n",
    "ndx = indexes[1] "
   ]
  },
  {
   "cell_type": "code",
   "execution_count": 42,
   "metadata": {},
   "outputs": [
    {
     "name": "stdout",
     "output_type": "stream",
     "text": [
      "--- Parsing index file\n",
      "--- Found 3 atom groups\n",
      "--- Selected groups 0:System\n"
     ]
    }
   ],
   "source": [
    "rmin = 0.\n",
    "rmax = 10/10.\n",
    "target = npbc_io.parse_index(ndx, [select])"
   ]
  },
  {
   "cell_type": "code",
   "execution_count": 43,
   "metadata": {},
   "outputs": [
    {
     "data": {
      "text/plain": [
       "<mdtraj.Trajectory with 125001 frames, 489 atoms, 1 residues, without unitcells at 0x7fe96ae4e820>"
      ]
     },
     "execution_count": 43,
     "metadata": {},
     "output_type": "execute_result"
    }
   ],
   "source": [
    "traj"
   ]
  },
  {
   "cell_type": "code",
   "execution_count": 44,
   "metadata": {},
   "outputs": [
    {
     "name": "stdout",
     "output_type": "stream",
     "text": [
      "--- Using concentrinc shells of volume:  0.8377580409572781  angstroem^3\n",
      "--- Layer  1  radii=  0.0 -> 0.5848035476425733  nm, Vol, 0.8377580409572782\n",
      "--- Layer  2  radii=  0.5848035476425733 -> 0.7368062997280773  nm, Vol, 0.837758040957278\n",
      "--- Layer  3  radii=  0.7368062997280773 -> 0.8434326653017493  nm, Vol, 0.8377580409572789\n",
      "--- Layer  4  radii=  0.8434326653017493 -> 0.9283177667225558  nm, Vol, 0.8377580409572779\n",
      "--- Layer  5  radii=  0.9283177667225558 -> 1.0  nm, Vol, 0.8377580409572775\n",
      "--- # Atoms and molecules 489 163.0\n",
      "--- Average density (for molecules), is:  38.91338358596841  molecules/nm3, i.e.  64.61719368042206  mol/l\n",
      "--- Reading frames\n",
      "--- Read  124001  frames\n"
     ]
    }
   ],
   "source": [
    "vol, Radii = npbc_io.sphere_radii(target, natoms, nbins, volume, rmin, rmax)\n",
    "rho = npbc_analysis.calc_density(1001, traj.n_frames, shift, from_wall, volume, traj, target, natoms, \\\n",
    "                                 Radii, weights[1])\n",
    "rho = rho.T\n",
    "VRHO.append(rho)"
   ]
  },
  {
   "cell_type": "markdown",
   "metadata": {},
   "source": [
    "**ddCosmo**"
   ]
  },
  {
   "cell_type": "code",
   "execution_count": 45,
   "metadata": {},
   "outputs": [
    {
     "name": "stdout",
     "output_type": "stream",
     "text": [
      "--- Reading frames\n",
      "--- Read  124001  frames\n"
     ]
    }
   ],
   "source": [
    "traj = Dtrajs[1]\n",
    "rho = npbc_analysis.calc_density(1001, traj.n_frames, shift, from_wall, volume, traj, target, natoms, \\\n",
    "                                    Radii, weights[1])\n",
    "rho = rho.T\n",
    "DRHO.append(rho)"
   ]
  },
  {
   "cell_type": "markdown",
   "metadata": {},
   "source": [
    "### radius 12"
   ]
  },
  {
   "cell_type": "markdown",
   "metadata": {},
   "source": [
    "#### vacuum"
   ]
  },
  {
   "cell_type": "code",
   "execution_count": 46,
   "metadata": {},
   "outputs": [],
   "source": [
    "traj = Vtrajs[2]\n",
    "ndx = indexes[2] "
   ]
  },
  {
   "cell_type": "code",
   "execution_count": 47,
   "metadata": {},
   "outputs": [
    {
     "name": "stdout",
     "output_type": "stream",
     "text": [
      "--- Parsing index file\n",
      "--- Found 3 atom groups\n",
      "--- Selected groups 0:System\n"
     ]
    }
   ],
   "source": [
    "rmin = 0.\n",
    "rmax = 12/10.\n",
    "target = npbc_io.parse_index(ndx, [select])"
   ]
  },
  {
   "cell_type": "code",
   "execution_count": 48,
   "metadata": {},
   "outputs": [
    {
     "name": "stdout",
     "output_type": "stream",
     "text": [
      "--- Using concentrinc shells of volume:  1.4476458947741764  angstroem^3\n",
      "--- Layer  1  radii=  0.0 -> 0.7017642571710878  nm, Vol, 1.4476458947741764\n",
      "--- Layer  2  radii=  0.7017642571710878 -> 0.8841675596736928  nm, Vol, 1.4476458947741764\n",
      "--- Layer  3  radii=  0.8841675596736928 -> 1.0121191983620992  nm, Vol, 1.4476458947741786\n",
      "--- Layer  4  radii=  1.0121191983620992 -> 1.113981320067067  nm, Vol, 1.4476458947741753\n",
      "--- Layer  5  radii=  1.113981320067067 -> 1.2  nm, Vol, 1.4476458947741753\n",
      "--- # Atoms and molecules 888 296.0\n",
      "--- Average density (for molecules), is:  40.893978433334226  molecules/nm3, i.e.  67.90604880071622  mol/l\n",
      "--- Reading frames\n",
      "--- Read  124001  frames\n"
     ]
    }
   ],
   "source": [
    "vol, Radii = npbc_io.sphere_radii(target, natoms, nbins, volume, rmin, rmax)\n",
    "rho = npbc_analysis.calc_density(1001, traj.n_frames, shift, from_wall, volume, traj, target, natoms, \\\n",
    "                                 Radii, weights[2])\n",
    "rho = rho.T\n",
    "VRHO.append(rho)"
   ]
  },
  {
   "cell_type": "markdown",
   "metadata": {},
   "source": [
    "**ddCosmo**"
   ]
  },
  {
   "cell_type": "code",
   "execution_count": 49,
   "metadata": {},
   "outputs": [
    {
     "name": "stdout",
     "output_type": "stream",
     "text": [
      "--- Reading frames\n",
      "--- Read  124001  frames\n"
     ]
    }
   ],
   "source": [
    "traj = Dtrajs[2]\n",
    "rho = npbc_analysis.calc_density(1001, traj.n_frames, shift, from_wall, volume, traj, target, natoms, \\\n",
    "                                    Radii, weights[2])\n",
    "rho = rho.T\n",
    "DRHO.append(rho)"
   ]
  },
  {
   "cell_type": "code",
   "execution_count": 50,
   "metadata": {},
   "outputs": [
    {
     "data": {
      "text/plain": [
       "<matplotlib.legend.Legend at 0x7fe9684bfac0>"
      ]
     },
     "execution_count": 50,
     "metadata": {},
     "output_type": "execute_result"
    },
    {
     "data": {
      "image/png": "[encoded data removed]",
      "text/plain": [
       "<Figure size 720x720 with 3 Axes>"
      ]
     },
     "metadata": {
      "needs_background": "light"
     },
     "output_type": "display_data"
    }
   ],
   "source": [
    "plt.figure(figsize=(10,10))\n",
    "\n",
    "plt.subplot(221)\n",
    "plt.title('radius 8.5')\n",
    "plt.errorbar(VRHO[0][:,0], VRHO[0][:,1], fmt='go-', yerr=VRHO[0][:,2], linewidth=1, label='vacuum')\n",
    "plt.errorbar(DRHO[0][:,0], DRHO[0][:,1], fmt='rs--', yerr=DRHO[0][:,2], linewidth=1, label='ddCosmo')\n",
    "plt.xlabel(\"distance from wall\")\n",
    "plt.ylabel(\"mol/l\")\n",
    "plt.legend()\n",
    "\n",
    "plt.subplot(222)\n",
    "plt.title('radius 10')\n",
    "plt.errorbar(VRHO[1][:,0], VRHO[1][:,1], fmt='go-', yerr=VRHO[1][:,2], linewidth=1, label='vacuum')\n",
    "plt.errorbar(DRHO[1][:,0], DRHO[1][:,1], fmt='rs--', yerr=DRHO[1][:,2], linewidth=1, label='ddCosmo')\n",
    "plt.xlabel(\"distance from wall\")\n",
    "plt.ylabel(\"mol/l\")\n",
    "plt.legend()\n",
    "\n",
    "plt.subplot(223)\n",
    "plt.title('radius 12')\n",
    "plt.errorbar(VRHO[2][:,0], VRHO[2][:,1], fmt='go-', yerr=VRHO[2][:,2], linewidth=1, label='vacuum')\n",
    "plt.errorbar(DRHO[2][:,0], DRHO[2][:,1], fmt='rs--', yerr=DRHO[2][:,2], linewidth=1, label='ddCosmo')\n",
    "plt.xlabel(\"distance from wall\")\n",
    "plt.ylabel(\"mol/l\")\n",
    "plt.legend()"
   ]
  },
  {
   "cell_type": "code",
   "execution_count": 51,
   "metadata": {},
   "outputs": [],
   "source": [
    "fVRHO = np.array((VRHO[0][:,0], VRHO[0][:,1], VRHO[2][:,1]))\n",
    "fDRHO = np.array((DRHO[0][:,0], DRHO[0][:,1], DRHO[2][:,1]))"
   ]
  },
  {
   "cell_type": "code",
   "execution_count": 52,
   "metadata": {},
   "outputs": [],
   "source": [
    "np.savetxt(\"vacuum_rdf_8_10_12.dat\", fVRHO)\n",
    "np.savetxt(\"ddc_rdf_8_10_12.dat\", fDRHO)"
   ]
  },
  {
   "cell_type": "code",
   "execution_count": 53,
   "metadata": {},
   "outputs": [
    {
     "data": {
      "text/plain": [
       "array([[ 0.        ,  0.59167804,  0.07173455],\n",
       "       [ 0.        , -0.78168494,  0.06363447],\n",
       "       [ 0.        , -1.21771902, -0.03110292],\n",
       "       [ 0.        ,  0.05168881,  0.05889702],\n",
       "       [ 0.        ,  1.335968  ,  0.33412714]])"
      ]
     },
     "execution_count": 53,
     "metadata": {},
     "output_type": "execute_result"
    }
   ],
   "source": [
    "VRHO[0]-DRHO[0]"
   ]
  },
  {
   "cell_type": "code",
   "execution_count": 54,
   "metadata": {},
   "outputs": [
    {
     "data": {
      "text/plain": [
       "array([[ 0.60145849, 30.0717691 ,  3.0397742 ],\n",
       "       [ 0.28831581, 28.142968  ,  5.18695617],\n",
       "       [ 0.17839844, 20.283959  ,  4.62363198],\n",
       "       [ 0.09700607, 12.45425958,  3.82955114],\n",
       "       [ 0.03046495,  6.96557228,  3.22778646]])"
      ]
     },
     "execution_count": 54,
     "metadata": {},
     "output_type": "execute_result"
    }
   ],
   "source": [
    "VRHO[0]"
   ]
  },
  {
   "cell_type": "code",
   "execution_count": 55,
   "metadata": {},
   "outputs": [
    {
     "data": {
      "text/plain": [
       "array([[ 0.60145849, 29.48009106,  2.96803964],\n",
       "       [ 0.28831581, 28.92465294,  5.12332171],\n",
       "       [ 0.17839844, 21.50167802,  4.6547349 ],\n",
       "       [ 0.09700607, 12.40257077,  3.77065412],\n",
       "       [ 0.03046495,  5.62960428,  2.89365932]])"
      ]
     },
     "execution_count": 55,
     "metadata": {},
     "output_type": "execute_result"
    }
   ],
   "source": [
    "DRHO[0]"
   ]
  },
  {
   "cell_type": "markdown",
   "metadata": {},
   "source": [
    "## orientation\n",
    "\n",
    "angle between dipole moment vector and sphere radius passing trought the center of mass"
   ]
  },
  {
   "cell_type": "code",
   "execution_count": 56,
   "metadata": {},
   "outputs": [],
   "source": [
    "VT = list()\n",
    "DT = list()"
   ]
  },
  {
   "cell_type": "code",
   "execution_count": 57,
   "metadata": {},
   "outputs": [],
   "source": [
    "select = (0)\n",
    "natoms = 3\n",
    "nbins = 5\n",
    "normV = False\n",
    "axis = False\n",
    "shift = np.zeros(3)\n",
    "natoms = 3\n",
    "top = tops[0]"
   ]
  },
  {
   "cell_type": "markdown",
   "metadata": {},
   "source": [
    "### radius 8.5"
   ]
  },
  {
   "cell_type": "markdown",
   "metadata": {},
   "source": [
    "#### vacuum"
   ]
  },
  {
   "cell_type": "code",
   "execution_count": 58,
   "metadata": {},
   "outputs": [],
   "source": [
    "rmin = 0.\n",
    "rmax = 8.5/10."
   ]
  },
  {
   "cell_type": "code",
   "execution_count": 59,
   "metadata": {},
   "outputs": [],
   "source": [
    "traj = Vtrajs[0]\n",
    "ndx = indexes[0]"
   ]
  },
  {
   "cell_type": "code",
   "execution_count": 60,
   "metadata": {},
   "outputs": [
    {
     "name": "stdout",
     "output_type": "stream",
     "text": [
      "--- Parsing index file\n",
      "--- Found 3 atom groups\n",
      "--- Selected groups 0:System\n"
     ]
    }
   ],
   "source": [
    "target = npbc_io.parse_index(ndx, [select])"
   ]
  },
  {
   "cell_type": "code",
   "execution_count": 61,
   "metadata": {},
   "outputs": [
    {
     "name": "stdout",
     "output_type": "stream",
     "text": [
      "--- Using concentrinc shells of volume:  0.5144881569028883  angstroem^3\n",
      "--- Layer  1  radii=  0.0 -> 0.4970830154961872  nm, Vol, 0.5144881569028884\n",
      "--- Layer  2  radii=  0.4970830154961872 -> 0.6262853547688657  nm, Vol, 0.5144881569028884\n",
      "--- Layer  3  radii=  0.6262853547688657 -> 0.7169177655064869  nm, Vol, 0.5144881569028887\n",
      "--- Layer  4  radii=  0.7169177655064869 -> 0.7890701017141724  nm, Vol, 0.5144881569028877\n",
      "--- Layer  5  radii=  0.7890701017141724 -> 0.85  nm, Vol, 0.5144881569028885\n",
      "--- # Atoms and molecules 177 59.0\n",
      "--- Average density (for molecules), is:  22.935416183403607  molecules/nm3, i.e.  38.08515459443297  mol/l\n"
     ]
    }
   ],
   "source": [
    "vol, Radii = npbc_io.sphere_radii(target, natoms, nbins, volume, rmin, rmax)"
   ]
  },
  {
   "cell_type": "code",
   "execution_count": 62,
   "metadata": {},
   "outputs": [
    {
     "name": "stdout",
     "output_type": "stream",
     "text": [
      "--- Read  11501  frames\n"
     ]
    }
   ],
   "source": [
    "tf, theta = npbc_analysis.calc_orient(normV, 1000, traj.n_frames, traj, shift, top, target[0], axis, vol,\\\n",
    "                                  Radii, weights[0], natoms)\n",
    "VT.append(theta)"
   ]
  },
  {
   "cell_type": "markdown",
   "metadata": {},
   "source": [
    "#### ddCosmo"
   ]
  },
  {
   "cell_type": "code",
   "execution_count": 63,
   "metadata": {},
   "outputs": [],
   "source": [
    "traj = Dtrajs[0]"
   ]
  },
  {
   "cell_type": "code",
   "execution_count": 64,
   "metadata": {},
   "outputs": [
    {
     "name": "stdout",
     "output_type": "stream",
     "text": [
      "--- Read  11501  frames\n"
     ]
    }
   ],
   "source": [
    "tf, theta = npbc_analysis.calc_orient(normV, 1000, traj.n_frames, traj, shift, top, target[0], axis, vol,\\\n",
    "                                  Radii, weights[0], natoms)\n",
    "DT.append(theta)"
   ]
  },
  {
   "cell_type": "markdown",
   "metadata": {},
   "source": [
    "### radius 10"
   ]
  },
  {
   "cell_type": "markdown",
   "metadata": {},
   "source": [
    "#### vacuum"
   ]
  },
  {
   "cell_type": "code",
   "execution_count": 65,
   "metadata": {},
   "outputs": [],
   "source": [
    "rmin = 0.\n",
    "rmax = 10/10."
   ]
  },
  {
   "cell_type": "code",
   "execution_count": 66,
   "metadata": {},
   "outputs": [],
   "source": [
    "traj = Vtrajs[1]\n",
    "ndx = indexes[1]"
   ]
  },
  {
   "cell_type": "code",
   "execution_count": 67,
   "metadata": {},
   "outputs": [
    {
     "name": "stdout",
     "output_type": "stream",
     "text": [
      "--- Parsing index file\n",
      "--- Found 3 atom groups\n",
      "--- Selected groups 0:System\n"
     ]
    }
   ],
   "source": [
    "target = npbc_io.parse_index(ndx, [select])"
   ]
  },
  {
   "cell_type": "code",
   "execution_count": 68,
   "metadata": {},
   "outputs": [
    {
     "name": "stdout",
     "output_type": "stream",
     "text": [
      "--- Using concentrinc shells of volume:  0.8377580409572781  angstroem^3\n",
      "--- Layer  1  radii=  0.0 -> 0.5848035476425733  nm, Vol, 0.8377580409572782\n",
      "--- Layer  2  radii=  0.5848035476425733 -> 0.7368062997280773  nm, Vol, 0.837758040957278\n",
      "--- Layer  3  radii=  0.7368062997280773 -> 0.8434326653017493  nm, Vol, 0.8377580409572789\n",
      "--- Layer  4  radii=  0.8434326653017493 -> 0.9283177667225558  nm, Vol, 0.8377580409572779\n",
      "--- Layer  5  radii=  0.9283177667225558 -> 1.0  nm, Vol, 0.8377580409572775\n",
      "--- # Atoms and molecules 489 163.0\n",
      "--- Average density (for molecules), is:  38.91338358596841  molecules/nm3, i.e.  64.61719368042206  mol/l\n"
     ]
    }
   ],
   "source": [
    "vol, Radii = npbc_io.sphere_radii(target, natoms, nbins, volume, rmin, rmax)"
   ]
  },
  {
   "cell_type": "code",
   "execution_count": 69,
   "metadata": {},
   "outputs": [
    {
     "name": "stdout",
     "output_type": "stream",
     "text": [
      "--- Read  124001  frames\n"
     ]
    }
   ],
   "source": [
    "tf, theta = npbc_analysis.calc_orient(normV, 1000, traj.n_frames, traj, shift, top, target[0], axis, vol,\\\n",
    "                                  Radii, weights[1], natoms)\n",
    "VT.append(theta)"
   ]
  },
  {
   "cell_type": "markdown",
   "metadata": {},
   "source": [
    "#### ddCosmo"
   ]
  },
  {
   "cell_type": "code",
   "execution_count": 70,
   "metadata": {},
   "outputs": [],
   "source": [
    "traj = Dtrajs[1]"
   ]
  },
  {
   "cell_type": "code",
   "execution_count": 71,
   "metadata": {},
   "outputs": [
    {
     "name": "stdout",
     "output_type": "stream",
     "text": [
      "--- Read  124001  frames\n"
     ]
    }
   ],
   "source": [
    "tf, theta = npbc_analysis.calc_orient(normV, 1000, traj.n_frames, traj, shift, top, target[0], axis, vol,\\\n",
    "                                  Radii, weights[1], natoms)\n",
    "DT.append(theta)"
   ]
  },
  {
   "cell_type": "markdown",
   "metadata": {},
   "source": [
    "### radius 12"
   ]
  },
  {
   "cell_type": "markdown",
   "metadata": {},
   "source": [
    "#### vacuum"
   ]
  },
  {
   "cell_type": "code",
   "execution_count": 72,
   "metadata": {},
   "outputs": [],
   "source": [
    "rmin = 0.\n",
    "rmax = 12/10."
   ]
  },
  {
   "cell_type": "code",
   "execution_count": 73,
   "metadata": {},
   "outputs": [],
   "source": [
    "traj = Vtrajs[2]\n",
    "ndx = indexes[2]"
   ]
  },
  {
   "cell_type": "code",
   "execution_count": 74,
   "metadata": {},
   "outputs": [
    {
     "name": "stdout",
     "output_type": "stream",
     "text": [
      "--- Parsing index file\n",
      "--- Found 3 atom groups\n",
      "--- Selected groups 0:System\n"
     ]
    }
   ],
   "source": [
    "target = npbc_io.parse_index(ndx, [select])"
   ]
  },
  {
   "cell_type": "code",
   "execution_count": 75,
   "metadata": {},
   "outputs": [
    {
     "name": "stdout",
     "output_type": "stream",
     "text": [
      "--- Using concentrinc shells of volume:  1.4476458947741764  angstroem^3\n",
      "--- Layer  1  radii=  0.0 -> 0.7017642571710878  nm, Vol, 1.4476458947741764\n",
      "--- Layer  2  radii=  0.7017642571710878 -> 0.8841675596736928  nm, Vol, 1.4476458947741764\n",
      "--- Layer  3  radii=  0.8841675596736928 -> 1.0121191983620992  nm, Vol, 1.4476458947741786\n",
      "--- Layer  4  radii=  1.0121191983620992 -> 1.113981320067067  nm, Vol, 1.4476458947741753\n",
      "--- Layer  5  radii=  1.113981320067067 -> 1.2  nm, Vol, 1.4476458947741753\n",
      "--- # Atoms and molecules 888 296.0\n",
      "--- Average density (for molecules), is:  40.893978433334226  molecules/nm3, i.e.  67.90604880071622  mol/l\n"
     ]
    }
   ],
   "source": [
    "vol, Radii = npbc_io.sphere_radii(target, natoms, nbins, volume, rmin, rmax)"
   ]
  },
  {
   "cell_type": "code",
   "execution_count": 76,
   "metadata": {},
   "outputs": [
    {
     "name": "stdout",
     "output_type": "stream",
     "text": [
      "--- Read  124001  frames\n"
     ]
    }
   ],
   "source": [
    "tf, theta = npbc_analysis.calc_orient(normV, 1000, traj.n_frames, traj, shift, top, target[0], axis, vol,\\\n",
    "                                  Radii, weights[2], natoms)\n",
    "VT.append(theta)"
   ]
  },
  {
   "cell_type": "markdown",
   "metadata": {},
   "source": [
    "#### ddCosmo"
   ]
  },
  {
   "cell_type": "code",
   "execution_count": 77,
   "metadata": {},
   "outputs": [],
   "source": [
    "traj = Dtrajs[2]"
   ]
  },
  {
   "cell_type": "code",
   "execution_count": 78,
   "metadata": {},
   "outputs": [
    {
     "name": "stdout",
     "output_type": "stream",
     "text": [
      "--- Read  124001  frames\n"
     ]
    }
   ],
   "source": [
    "tf, theta = npbc_analysis.calc_orient(normV, 1000, traj.n_frames, traj, shift, top, target[0], axis, vol,\\\n",
    "                                  Radii, weights[2], natoms)\n",
    "DT.append(theta)"
   ]
  },
  {
   "cell_type": "code",
   "execution_count": 79,
   "metadata": {},
   "outputs": [
    {
     "data": {
      "text/plain": [
       "<matplotlib.legend.Legend at 0x7fe964f53a60>"
      ]
     },
     "execution_count": 79,
     "metadata": {},
     "output_type": "execute_result"
    },
    {
     "data": {
      "image/png": "[encoded data removed]",
      "text/plain": [
       "<Figure size 720x720 with 3 Axes>"
      ]
     },
     "metadata": {
      "needs_background": "light"
     },
     "output_type": "display_data"
    }
   ],
   "source": [
    "plt.figure(figsize=(10,10))\n",
    "\n",
    "plt.subplot(221)\n",
    "plt.title('radius 8.5')\n",
    "plt.errorbar(VT[0][:,0], VT[0][:,1], fmt='go-', yerr=VT[0][:,2], linewidth=1, label='radius 8.5')\n",
    "plt.errorbar(DT[0][:,0], DT[0][:,1], fmt='rs--', yerr=DT[0][:,2], linewidth=1, label='radius 8.5')\n",
    "plt.xlabel(\"distance from wall\")\n",
    "plt.ylabel(\"orientation\")\n",
    "plt.legend()\n",
    "\n",
    "plt.subplot(222)\n",
    "plt.title('radius 10')\n",
    "plt.errorbar(VT[0][:,0], VT[0][:,1], fmt='go-', yerr=VT[0][:,2], linewidth=1, label='radius 8.5')\n",
    "plt.errorbar(DT[0][:,0], DT[0][:,1], fmt='rs--', yerr=DT[0][:,2], linewidth=1, label='radius 8.5')\n",
    "plt.xlabel(\"distance from wall\")\n",
    "plt.ylabel(\"orientation\")\n",
    "plt.legend()\n",
    "\n",
    "plt.subplot(223)\n",
    "plt.title('radius 12')\n",
    "plt.errorbar(VT[0][:,0], VT[0][:,1], fmt='go-', yerr=VT[0][:,2], linewidth=1, label='radius 8.5')\n",
    "plt.errorbar(DT[0][:,0], DT[0][:,1], fmt='rs--', yerr=DT[0][:,2], linewidth=1, label='radius 8.5')\n",
    "plt.xlabel(\"distance from wall\")\n",
    "plt.ylabel(\"orientation\")\n",
    "plt.legend()"
   ]
  },
  {
   "cell_type": "code",
   "execution_count": 80,
   "metadata": {},
   "outputs": [
    {
     "data": {
      "text/plain": [
       "array([[ 0.00000000e+00, -8.59351562e-04, -2.08047464e-01],\n",
       "       [ 0.00000000e+00, -1.25546459e-03,  1.06035252e-02],\n",
       "       [ 0.00000000e+00, -4.97534012e-04,  4.16616719e-01],\n",
       "       [ 0.00000000e+00,  7.55569479e-04,  5.29874174e-01],\n",
       "       [ 0.00000000e+00, -6.28685461e-03, -4.61537338e-02]])"
      ]
     },
     "execution_count": 80,
     "metadata": {},
     "output_type": "execute_result"
    }
   ],
   "source": [
    "VT[0]-DT[0]"
   ]
  },
  {
   "cell_type": "code",
   "execution_count": 81,
   "metadata": {},
   "outputs": [
    {
     "data": {
      "text/plain": [
       "array([[ 0.00000000e+00,  5.97158542e-05,  2.22931352e-02],\n",
       "       [ 0.00000000e+00,  1.48027746e-04, -9.22138047e-02],\n",
       "       [ 0.00000000e+00,  9.63704423e-06, -1.58887956e-01],\n",
       "       [ 0.00000000e+00,  7.03510644e-06,  1.95095536e-01],\n",
       "       [ 0.00000000e+00,  2.55516083e-06, -5.48369239e-01]])"
      ]
     },
     "execution_count": 81,
     "metadata": {},
     "output_type": "execute_result"
    }
   ],
   "source": [
    "VT[1]-DT[1]"
   ]
  }
 ],
 "metadata": {
  "kernelspec": {
   "display_name": "Python 3",
   "language": "python",
   "name": "python3"
  },
  "language_info": {
   "codemirror_mode": {
    "name": "ipython",
    "version": 3
   },
   "file_extension": ".py",
   "mimetype": "text/x-python",
   "name": "python",
   "nbconvert_exporter": "python",
   "pygments_lexer": "ipython3",
   "version": "3.8.10"
  }
 },
 "nbformat": 4,
 "nbformat_minor": 4
}
